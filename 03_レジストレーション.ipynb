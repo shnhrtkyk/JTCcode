{
  "nbformat": 4,
  "nbformat_minor": 0,
  "metadata": {
    "colab": {
      "provenance": [],
      "authorship_tag": "ABX9TyPzIfZLPVC7r+ksRuWEuv7A",
      "include_colab_link": true
    },
    "kernelspec": {
      "name": "python3",
      "display_name": "Python 3"
    },
    "language_info": {
      "name": "python"
    }
  },
  "cells": [
    {
      "cell_type": "markdown",
      "metadata": {
        "id": "view-in-github",
        "colab_type": "text"
      },
      "source": [
        "<a href=\"https://colab.research.google.com/github/shnhrtkyk/JTCcode/blob/main/03_%E3%83%AC%E3%82%B8%E3%82%B9%E3%83%88%E3%83%AC%E3%83%BC%E3%82%B7%E3%83%A7%E3%83%B3.ipynb\" target=\"_parent\"><img src=\"https://colab.research.google.com/assets/colab-badge.svg\" alt=\"Open In Colab\"/></a>"
      ]
    },
    {
      "cell_type": "markdown",
      "source": [
        "# レジストレーション"
      ],
      "metadata": {
        "id": "peOefNQU0cVK"
      }
    },
    {
      "cell_type": "markdown",
      "source": [
        "## コードをダウンロード"
      ],
      "metadata": {
        "id": "E8yQgCya0kFg"
      }
    },
    {
      "cell_type": "code",
      "source": [
        "!git clone --recursive https://github.com/3d-point-cloud-processing/3dpcp_book_codes"
      ],
      "metadata": {
        "id": "GulMJUU50nlX"
      },
      "execution_count": null,
      "outputs": []
    },
    {
      "cell_type": "markdown",
      "source": [
        "使用するデータをダウンロード"
      ],
      "metadata": {
        "id": "cvb8LnztKyQ6"
      }
    },
    {
      "cell_type": "code",
      "source": [
        "!wget http://graphics.stanford.edu/pub/3Dscanrep/bunny.tar.gz\n",
        "!tar xvfz ./bunny.tar.gz"
      ],
      "metadata": {
        "id": "xGg0D2gLK1iK"
      },
      "execution_count": null,
      "outputs": []
    },
    {
      "cell_type": "markdown",
      "source": [
        "## ライブラリをダウンロード"
      ],
      "metadata": {
        "id": "44Yy3qx60os3"
      }
    },
    {
      "cell_type": "code",
      "source": [
        "!pip install open3d==0.16"
      ],
      "metadata": {
        "id": "IgLhVc6R0ogn"
      },
      "execution_count": null,
      "outputs": []
    },
    {
      "cell_type": "markdown",
      "source": [
        "## 最近傍探索"
      ],
      "metadata": {
        "id": "JspZ2kMs0fgH"
      }
    },
    {
      "cell_type": "markdown",
      "source": [
        "### 単純な全探索"
      ],
      "metadata": {
        "id": "huQ85n5m0g6n"
      }
    },
    {
      "cell_type": "code",
      "execution_count": null,
      "metadata": {
        "id": "HONmtxgr0XmT"
      },
      "outputs": [],
      "source": [
        "import open3d as o3d\n",
        "import numpy as np\n",
        "import copy\n",
        "\n",
        "\n",
        "# point cloud as sin function\n",
        "X_x = np.arange(-np.pi,np.pi, 0.1)\n",
        "X_y = np.sin(X_x)*3\n",
        "X_z = np.zeros(X_x.shape)\n",
        "X = np.vstack([X_x, X_y, X_z]).T\n",
        "\n",
        "# point p\n",
        "p = np.array([1.0,0.0,0.0])\n",
        "\n",
        "# open3d point cloud of X\n",
        "pcd_X = o3d.geometry.PointCloud()\n",
        "pcd_X.points = o3d.utility.Vector3dVector(X)\n",
        "pcd_X.paint_uniform_color([0.5,0.5,0.5])\n",
        "\n",
        "# open3d point cloud of p\n",
        "pcd_p = o3d.geometry.PointCloud()\n",
        "pcd_p.points = o3d.utility.Vector3dVector([p])\n",
        "pcd_p.paint_uniform_color([0.0,0.0,1.0])\n",
        "\n",
        "# Visualization\n",
        "o3d.visualization.draw_plotly(\n",
        "  [pcd_X,pcd_p],\n",
        "  width=800,\n",
        "  height=800\n",
        ")\n",
        "\n"
      ]
    },
    {
      "cell_type": "code",
      "source": [
        "def dist( p, X ):\n",
        "    dists = np.linalg.norm(p-X,axis=1, ord=2)  # 距離の計算\n",
        "    min_dist = min(dists)\n",
        "    min_idx = np.argmin(dists)\n",
        "    \n",
        "    return min_dist, min_idx\n",
        "\n",
        "min_dist, min_idx = dist(p,X)\n",
        "np.asarray(pcd_X.colors)[min_idx] = [0.0,1.0,0.0]\n",
        "print(\"distance:{}, idx:{}\".format(min_dist, min_idx))\n",
        "# o3d.visualization.draw_geometries([mesh,pcd_X,pcd_p])\n",
        "o3d.visualization.draw_plotly(\n",
        "  [pcd_X,pcd_p],\n",
        "  width=800,\n",
        "  height=800\n",
        ")\n"
      ],
      "metadata": {
        "id": "lZdDbvxu1Nbn"
      },
      "execution_count": null,
      "outputs": []
    },
    {
      "cell_type": "markdown",
      "source": [
        "### KD-TREE\n",
        "kd-treeによる最近傍探索を行います。"
      ],
      "metadata": {
        "id": "P6epxaAMFCpM"
      }
    },
    {
      "cell_type": "markdown",
      "source": [
        "比較として、全探索を行った場合の処理時間を計測してみます。\n"
      ],
      "metadata": {
        "id": "Wskoo41lMWZh"
      }
    },
    {
      "cell_type": "code",
      "source": [
        "import open3d as o3d\n",
        "import numpy as np\n",
        "import copy\n",
        "import time \n",
        "\n",
        "pcd = o3d.io.read_point_cloud(\"/content/bunny/data/bun000.ply\")\n",
        "pcd.paint_uniform_color([0.5, 0.5, 0.5])\n",
        "distslist = []\n",
        "# 全探索による近傍探索開始\n",
        "start = time.time()\n",
        "for pt in pcd.points:\n",
        "  dists = np.linalg.norm(pt - pcd.points[10000],axis=0, ord=2)\n",
        "  distslist.append(dists)\n",
        "\n",
        "distslist = np.array(distslist)\n",
        "distslist_index = distslist.argsort()\n",
        "np.asarray(pcd.colors)[distslist_index[1:200], :] = [0 , 1 , 1]\n",
        "# 全探索による近傍探索終了\n",
        "end = time.time()\n",
        "print(end -start)\n",
        "o3d.visualization.draw_plotly(\n",
        "  [pcd],\n",
        "  width=800,\n",
        "  height=800\n",
        ")\n"
      ],
      "metadata": {
        "id": "k9e8NuxkMX3i"
      },
      "execution_count": null,
      "outputs": []
    },
    {
      "cell_type": "markdown",
      "source": [
        "KD-treeを使用したらどれくらい処理が早くなるかを確認します。\n"
      ],
      "metadata": {
        "id": "CFNkhUyvRnQ4"
      }
    },
    {
      "cell_type": "code",
      "source": [
        "import open3d as o3d\n",
        "import numpy as np\n",
        "import copy\n",
        "\n",
        "pcd = o3d.io.read_point_cloud(\"/content/bunny/data/bun000.ply\")\n",
        "pcd.paint_uniform_color([0.5, 0.5, 0.5])\n",
        "pcd_tree = o3d.geometry.KDTreeFlann(pcd)\n",
        "\n",
        "query = 10000\n",
        "pcd.colors[query] = [1, 0, 0]\n",
        "# kd-treeによる近傍探索\n",
        "start = time.time()\n",
        "[k, idx, _] = pcd_tree.search_knn_vector_3d(pcd.points[query], 200)\n",
        "np.asarray(pcd.colors)[idx[1:], :] = [0, 0, 1]\n",
        "# kd-treeによる近傍探索\n",
        "end = time.time()\n",
        "print(end -start)\n",
        "\n",
        "o3d.visualization.draw_geometries([pcd], width=600, height=400)\n",
        "\n",
        "# query = 20000\n",
        "# pcd.colors[query] = [1, 0, 0]\n",
        "# [k, idx, d] = pcd_tree.search_radius_vector_3d(pcd.points[query], 0.01)\n",
        "# np.asarray(pcd.colors)[idx[1:], :] = [0, 1, 0]\n",
        "# o3d.visualization.draw_geometries([pcd], width=600, height=400)\n",
        "\n",
        "# query = 5000\n",
        "# pcd.colors[query] = [1 , 0 , 0]\n",
        "# [k ,idx ,d ] = pcd_tree.search_hybrid_vector_3d( pcd.points[query],\n",
        "#                                                         radius =0.01,\n",
        "#                                                         max_nn =200 )\n",
        "np.asarray(pcd.colors)[idx[1:], :] = [0 , 1 , 1]\n",
        "o3d.visualization.draw_plotly(\n",
        "  [pcd],\n",
        "  width=800,\n",
        "  height=800\n",
        ")\n"
      ],
      "metadata": {
        "id": "j37G_yohC9U3"
      },
      "execution_count": null,
      "outputs": []
    },
    {
      "cell_type": "markdown",
      "source": [
        "## ICPアルゴリズム"
      ],
      "metadata": {
        "id": "M_JsVDI8E-TL"
      }
    },
    {
      "cell_type": "code",
      "source": [
        "import open3d as o3d\n",
        "import numpy as np\n",
        "import copy\n",
        "\n",
        "\n",
        "pcd1 = o3d.io.read_point_cloud(\"/content/bunny/data/bun000.ply\")\n",
        "pcd2 = o3d.io.read_point_cloud(\"/content/bunny/data/bun045.ply\")\n",
        "\n",
        "\n",
        "pcd_s = pcd1.voxel_down_sample(voxel_size=0.003)\n",
        "pcd_t = pcd2.voxel_down_sample(voxel_size=0.003)\n",
        "\n",
        "# 初期状態の表示\n",
        "pcd_s.paint_uniform_color([0.0, 1.0, 0.0])\n",
        "pcd_t.paint_uniform_color([0.0, 0.0, 1.0])\n",
        "o3d.visualization.draw_geometries([pcd_s,pcd_t])\n",
        "\n",
        "# ICPによる位置合わせ\n",
        "threshold = 0.05\n",
        "trans_init = np.identity(4)\n",
        "obj_func = o3d.pipelines.registration.TransformationEstimationPointToPoint()\n",
        "result = o3d.pipelines.registration.registration_icp( pcd_s, pcd_t,\n",
        "                                                      threshold,\n",
        "                                                      trans_init,\n",
        "                                                      obj_func\n",
        "                                                    )\n",
        "\n",
        "trans_reg = result.transformation\n",
        "print(trans_reg) \n",
        "\n",
        "# 得られた変換行列を点群に適用\n",
        "pcd_reg = copy.deepcopy(pcd_s).transform(trans_reg)\n",
        "pcd_reg.paint_uniform_color([1.0, 0.0, 0.0])\n",
        "\n",
        "\n",
        "o3d.visualization.draw_plotly(\n",
        "  [pcd_reg,pcd_t],\n",
        "  width=800,\n",
        "  height=800\n",
        ")"
      ],
      "metadata": {
        "id": "erRs0EjqFG5c"
      },
      "execution_count": null,
      "outputs": []
    }
  ]
}