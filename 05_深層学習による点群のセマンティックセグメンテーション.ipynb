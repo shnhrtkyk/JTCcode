{
  "cells": [
    {
      "cell_type": "markdown",
      "metadata": {
        "id": "view-in-github",
        "colab_type": "text"
      },
      "source": [
        "<a href=\"https://colab.research.google.com/github/shnhrtkyk/JTCcode/blob/main/05_%E6%B7%B1%E5%B1%A4%E5%AD%A6%E7%BF%92%E3%81%AB%E3%82%88%E3%82%8B%E7%82%B9%E7%BE%A4%E3%81%AE%E3%82%BB%E3%83%9E%E3%83%B3%E3%83%86%E3%82%A3%E3%83%83%E3%82%AF%E3%82%BB%E3%82%B0%E3%83%A1%E3%83%B3%E3%83%86%E3%83%BC%E3%82%B7%E3%83%A7%E3%83%B3.ipynb\" target=\"_parent\"><img src=\"https://colab.research.google.com/assets/colab-badge.svg\" alt=\"Open In Colab\"/></a>"
      ]
    },
    {
      "cell_type": "markdown",
      "id": "cdbbe526-23ee-4a90-af8c-9f7092f50192",
      "metadata": {
        "id": "cdbbe526-23ee-4a90-af8c-9f7092f50192"
      },
      "source": [
        "# セマンティックセグメンテーションの実装"
      ]
    },
    {
      "cell_type": "markdown",
      "source": [
        "セマンティックセグメンテーションとは、入力された各点にクラス情報を付与する手法です。\n",
        "セマンティックセグメンテーションにより、入力された点群がどのような環境なのか、具体的には道路の上に車があるなどの環境認識を3次元空間で行うことができます。"
      ],
      "metadata": {
        "id": "7ExH1iONn2dj"
      },
      "id": "7ExH1iONn2dj"
    },
    {
      "cell_type": "markdown",
      "id": "ed5c4e28-f40c-4c6a-827a-e28ff6db0501",
      "metadata": {
        "id": "ed5c4e28-f40c-4c6a-827a-e28ff6db0501"
      },
      "source": [
        "# 必要なライブラリをインストール"
      ]
    },
    {
      "cell_type": "code",
      "execution_count": 1,
      "id": "726d3107-dd0a-440a-a164-43b708af858f",
      "metadata": {
        "id": "726d3107-dd0a-440a-a164-43b708af858f",
        "colab": {
          "base_uri": "https://localhost:8080/"
        },
        "outputId": "045bbff7-7603-4db6-fc44-e1a6575a56c2"
      },
      "outputs": [
        {
          "output_type": "stream",
          "name": "stdout",
          "text": [
            "2.0.0+cu118\n"
          ]
        }
      ],
      "source": [
        "import os\n",
        "import torch\n",
        "os.environ['TORCH'] = torch.__version__\n",
        "print(torch.__version__)"
      ]
    },
    {
      "cell_type": "code",
      "execution_count": 2,
      "id": "4ebab99e-383f-410d-93a0-c8ff29dad2de",
      "metadata": {
        "id": "4ebab99e-383f-410d-93a0-c8ff29dad2de",
        "colab": {
          "base_uri": "https://localhost:8080/"
        },
        "outputId": "84942c54-8957-4c32-9a2c-0e2c555cf10d"
      },
      "outputs": [
        {
          "output_type": "stream",
          "name": "stdout",
          "text": [
            "\u001b[2K     \u001b[90m━━━━━━━━━━━━━━━━━━━━━━━━━━━━━━━━━━━━━━━━\u001b[0m \u001b[32m10.2/10.2 MB\u001b[0m \u001b[31m23.3 MB/s\u001b[0m eta \u001b[36m0:00:00\u001b[0m\n",
            "\u001b[2K     \u001b[90m━━━━━━━━━━━━━━━━━━━━━━━━━━━━━━━━━━━━━━━━\u001b[0m \u001b[32m4.8/4.8 MB\u001b[0m \u001b[31m21.9 MB/s\u001b[0m eta \u001b[36m0:00:00\u001b[0m\n",
            "\u001b[2K     \u001b[90m━━━━━━━━━━━━━━━━━━━━━━━━━━━━━━━━━━━━━━━━\u001b[0m \u001b[32m3.3/3.3 MB\u001b[0m \u001b[31m25.5 MB/s\u001b[0m eta \u001b[36m0:00:00\u001b[0m\n",
            "\u001b[?25h  Installing build dependencies ... \u001b[?25l\u001b[?25hdone\n",
            "  Getting requirements to build wheel ... \u001b[?25l\u001b[?25hdone\n",
            "  Preparing metadata (pyproject.toml) ... \u001b[?25l\u001b[?25hdone\n",
            "  Building wheel for torch_geometric (pyproject.toml) ... \u001b[?25l\u001b[?25hdone\n",
            "Looking in indexes: https://pypi.org/simple, https://us-python.pkg.dev/colab-wheels/public/simple/\n",
            "Requirement already satisfied: pip in /usr/local/lib/python3.9/dist-packages (22.0.4)\n",
            "Collecting install\n",
            "  Downloading install-1.3.5-py3-none-any.whl (3.2 kB)\n",
            "Collecting torchmetrics\n",
            "  Downloading torchmetrics-0.11.4-py3-none-any.whl (519 kB)\n",
            "\u001b[2K     \u001b[90m━━━━━━━━━━━━━━━━━━━━━━━━━━━━━━━━━━━━━━\u001b[0m \u001b[32m519.2/519.2 KB\u001b[0m \u001b[31m27.9 MB/s\u001b[0m eta \u001b[36m0:00:00\u001b[0m\n",
            "\u001b[?25hRequirement already satisfied: packaging in /usr/local/lib/python3.9/dist-packages (from torchmetrics) (23.0)\n",
            "Requirement already satisfied: numpy>=1.17.2 in /usr/local/lib/python3.9/dist-packages (from torchmetrics) (1.22.4)\n",
            "Requirement already satisfied: torch>=1.8.1 in /usr/local/lib/python3.9/dist-packages (from torchmetrics) (2.0.0+cu118)\n",
            "Requirement already satisfied: filelock in /usr/local/lib/python3.9/dist-packages (from torch>=1.8.1->torchmetrics) (3.10.7)\n",
            "Requirement already satisfied: triton==2.0.0 in /usr/local/lib/python3.9/dist-packages (from torch>=1.8.1->torchmetrics) (2.0.0)\n",
            "Requirement already satisfied: jinja2 in /usr/local/lib/python3.9/dist-packages (from torch>=1.8.1->torchmetrics) (3.1.2)\n",
            "Requirement already satisfied: networkx in /usr/local/lib/python3.9/dist-packages (from torch>=1.8.1->torchmetrics) (3.0)\n",
            "Requirement already satisfied: sympy in /usr/local/lib/python3.9/dist-packages (from torch>=1.8.1->torchmetrics) (1.11.1)\n",
            "Requirement already satisfied: typing-extensions in /usr/local/lib/python3.9/dist-packages (from torch>=1.8.1->torchmetrics) (4.5.0)\n",
            "Requirement already satisfied: lit in /usr/local/lib/python3.9/dist-packages (from triton==2.0.0->torch>=1.8.1->torchmetrics) (16.0.0)\n",
            "Requirement already satisfied: cmake in /usr/local/lib/python3.9/dist-packages (from triton==2.0.0->torch>=1.8.1->torchmetrics) (3.25.2)\n",
            "Requirement already satisfied: MarkupSafe>=2.0 in /usr/local/lib/python3.9/dist-packages (from jinja2->torch>=1.8.1->torchmetrics) (2.1.2)\n",
            "Requirement already satisfied: mpmath>=0.19 in /usr/local/lib/python3.9/dist-packages (from sympy->torch>=1.8.1->torchmetrics) (1.3.0)\n",
            "Installing collected packages: install, torchmetrics\n",
            "Successfully installed install-1.3.5 torchmetrics-0.11.4\n"
          ]
        }
      ],
      "source": [
        "!pip install -q torch-scatter -f https://data.pyg.org/whl/torch-${TORCH}.html\n",
        "!pip install -q torch-sparse -f https://data.pyg.org/whl/torch-${TORCH}.html\n",
        "!pip install -q torch-cluster -f https://data.pyg.org/whl/torch-${TORCH}.html\n",
        "!pip install -q git+https://github.com/pyg-team/pytorch_geometric.git\n",
        "!pip install pip install torchmetrics"
      ]
    },
    {
      "cell_type": "markdown",
      "id": "dec996ce-98b9-465d-b530-e0f88ac7080d",
      "metadata": {
        "id": "dec996ce-98b9-465d-b530-e0f88ac7080d"
      },
      "source": [
        "## ライブラリのインポート"
      ]
    },
    {
      "cell_type": "code",
      "execution_count": 3,
      "id": "c7f2a4cd-24e6-457d-b7f6-7fc94912fd12",
      "metadata": {
        "id": "c7f2a4cd-24e6-457d-b7f6-7fc94912fd12"
      },
      "outputs": [],
      "source": [
        "import os\n",
        "import random\n",
        "import numpy as np\n",
        "from tqdm.auto import tqdm\n",
        "\n",
        "import torch\n",
        "import torch.nn.functional as F\n",
        "\n",
        "from torch_scatter import scatter\n",
        "from torchmetrics.classification import MulticlassJaccardIndex\n",
        "\n",
        "import torch_geometric.transforms as T\n",
        "from torch_geometric.datasets import ShapeNet\n",
        "from torch_geometric.loader import DataLoader\n",
        "from torch_geometric.nn import MLP, DynamicEdgeConv"
      ]
    },
    {
      "cell_type": "markdown",
      "id": "c71deb4e-f171-4a31-9801-a0e8f9cc9c04",
      "metadata": {
        "id": "c71deb4e-f171-4a31-9801-a0e8f9cc9c04"
      },
      "source": [
        "## 初期化"
      ]
    },
    {
      "cell_type": "code",
      "execution_count": 4,
      "id": "a1053dec-59c9-4e9d-84e2-a1297dbf715f",
      "metadata": {
        "id": "a1053dec-59c9-4e9d-84e2-a1297dbf715f"
      },
      "outputs": [],
      "source": [
        "config_seed = 42\n",
        "config_device = 'cuda' if torch.cuda.is_available() else 'cpu'\n",
        "\n",
        "random.seed(config_seed)\n",
        "torch.manual_seed(config_seed)\n",
        "device = torch.device(config_device)\n",
        "\n",
        "# 対象のクラスを選ぶ、今回はギターのセグメンテーションをします。\n",
        "config_category = \"Guitar\" # [\"Bag\", \"Cap\", \"Car\", \"Chair\", \"Earphone\", \"Guitar\", \"Knife\", \"Lamp\", \"Laptop\", \"Motorbike\", \"Mug\", \"Pistol\", \"Rocket\", \"Skateboard\", \"Table\"] \n",
        "config_random_jitter_translation = 1e-2\n",
        "config_random_rotation_interval_x = 15\n",
        "config_random_rotation_interval_y = 15\n",
        "config_random_rotation_interval_z = 15\n",
        "config_validation_split = 0.2\n",
        "config_batch_size = 16\n",
        "config_num_workers = 6\n",
        "\n",
        "config_num_nearest_neighbours = 30\n",
        "config_aggregation_operator = \"max\"\n",
        "config_dropout = 0.5\n",
        "config_initial_lr = 1e-3\n",
        "config_lr_scheduler_step_size = 5\n",
        "config_gamma = 0.8\n",
        "# エポック数は1回です\n",
        "config_epochs = 1"
      ]
    },
    {
      "cell_type": "markdown",
      "id": "57a72e20-ff1b-4cdf-b87f-10baff51bac7",
      "metadata": {
        "id": "57a72e20-ff1b-4cdf-b87f-10baff51bac7"
      },
      "source": [
        "# ShapeNetというデータセットを読み込む"
      ]
    },
    {
      "cell_type": "markdown",
      "source": [
        "ShapeNetという、物体のパーツごとにクラスが付与されたデータセットを用います。\n",
        "※ダウンロードに時間がかかります。"
      ],
      "metadata": {
        "id": "NB5HcG6UwnAw"
      },
      "id": "NB5HcG6UwnAw"
    },
    {
      "cell_type": "code",
      "execution_count": 5,
      "id": "42955441-03d8-4e9f-b856-7d7edc708981",
      "metadata": {
        "id": "42955441-03d8-4e9f-b856-7d7edc708981"
      },
      "outputs": [],
      "source": [
        "transform = T.Compose([\n",
        "    T.RandomJitter(config_random_jitter_translation),\n",
        "    T.RandomRotate(config_random_rotation_interval_x, axis=0),\n",
        "    T.RandomRotate(config_random_rotation_interval_y, axis=1),\n",
        "    T.RandomRotate(config_random_rotation_interval_z, axis=2)\n",
        "])\n",
        "pre_transform = T.NormalizeScale()"
      ]
    },
    {
      "cell_type": "code",
      "execution_count": 6,
      "id": "da27bf0f-1e0f-438d-b602-2124606e7138",
      "metadata": {
        "id": "da27bf0f-1e0f-438d-b602-2124606e7138",
        "colab": {
          "base_uri": "https://localhost:8080/"
        },
        "outputId": "a99cfe0c-9d39-4993-f008-3031210c0d82"
      },
      "outputs": [
        {
          "output_type": "stream",
          "name": "stderr",
          "text": [
            "Downloading https://shapenet.cs.stanford.edu/media/shapenetcore_partanno_segmentation_benchmark_v0_normal.zip\n",
            "Extracting ShapeNet/Guitar/shapenetcore_partanno_segmentation_benchmark_v0_normal.zip\n",
            "Processing...\n",
            "Done!\n"
          ]
        }
      ],
      "source": [
        "dataset_path = os.path.join('ShapeNet', config_category)\n",
        "\n",
        "train_val_dataset = ShapeNet(\n",
        "    dataset_path, config_category, split='trainval',\n",
        "    transform=transform, pre_transform=pre_transform\n",
        ")"
      ]
    },
    {
      "cell_type": "markdown",
      "id": "3e335648-933d-4865-aaaf-0f24c0358d16",
      "metadata": {
        "id": "3e335648-933d-4865-aaaf-0f24c0358d16"
      },
      "source": [
        "セグメンテーションデータの前処理"
      ]
    },
    {
      "cell_type": "code",
      "execution_count": 7,
      "id": "9e14c4af-b5af-4805-a479-f0725d6ef1de",
      "metadata": {
        "id": "9e14c4af-b5af-4805-a479-f0725d6ef1de",
        "colab": {
          "base_uri": "https://localhost:8080/",
          "height": 66,
          "referenced_widgets": [
            "d07aed38782f497aa1767b09d23588bf",
            "20dd88f953474d40ad5b0b6e797a3dc2",
            "ff9cbeae44be47a489f6dc1d4f0a6ae6",
            "5e1130ea97774f7ca402036617fadd20",
            "142642f855fa47599b5f0db1129b460e",
            "aec2679123634bc19515452f903abf8b",
            "c517402651d74b94ae7bdff79d15f2cf",
            "748ace531c8d4081bba5423739f65c88",
            "8df1b203eaf74e728966591e55c2d834",
            "864725d5086c4c11b92c949951c83c41",
            "bc252cba970e4dcc91ebac097d2438b5"
          ]
        },
        "outputId": "2db685a9-da40-4fa8-ea6b-4095229dce58"
      },
      "outputs": [
        {
          "output_type": "display_data",
          "data": {
            "text/plain": [
              "  0%|          | 0/628 [00:00<?, ?it/s]"
            ],
            "application/vnd.jupyter.widget-view+json": {
              "version_major": 2,
              "version_minor": 0,
              "model_id": "d07aed38782f497aa1767b09d23588bf"
            }
          },
          "metadata": {}
        },
        {
          "output_type": "stream",
          "name": "stdout",
          "text": [
            "Class Offset: 19\n"
          ]
        }
      ],
      "source": [
        "segmentation_class_frequency = {}\n",
        "for idx in tqdm(range(len(train_val_dataset))):\n",
        "    pc_viz = train_val_dataset[idx].pos.numpy().tolist()\n",
        "    segmentation_label = train_val_dataset[idx].y.numpy().tolist()\n",
        "    for label in set(segmentation_label):\n",
        "        segmentation_class_frequency[label] = segmentation_label.count(label)\n",
        "class_offset = min(list(segmentation_class_frequency.keys()))\n",
        "print(\"Class Offset:\", class_offset)\n",
        "\n",
        "for idx in range(len(train_val_dataset)):\n",
        "    train_val_dataset[idx].y -= class_offset"
      ]
    },
    {
      "cell_type": "markdown",
      "source": [
        "訓練データと検証データへの切り分け"
      ],
      "metadata": {
        "id": "tGOZGdcJw3B4"
      },
      "id": "tGOZGdcJw3B4"
    },
    {
      "cell_type": "code",
      "execution_count": 8,
      "id": "10e09ff7-e64b-4912-a30b-461d5eb72cb2",
      "metadata": {
        "id": "10e09ff7-e64b-4912-a30b-461d5eb72cb2"
      },
      "outputs": [],
      "source": [
        "num_train_examples = int((1 - config_validation_split) * len(train_val_dataset))\n",
        "train_dataset = train_val_dataset[:num_train_examples]\n",
        "val_dataset = train_val_dataset[num_train_examples:]"
      ]
    },
    {
      "cell_type": "code",
      "source": [
        "import matplotlib.pyplot as plt\n",
        "from mpl_toolkits.mplot3d import Axes3D\n",
        "\n",
        "predicted_pc_viz = train_dataset[1].pos\n",
        "label = train_dataset[1].y\n",
        "\n",
        "fig = plt.figure()\n",
        "ax = fig.add_subplot(111, projection='3d')\n",
        "\n",
        "ax.scatter(predicted_pc_viz[:, 0],   # x\n",
        "          predicted_pc_viz[:, 1],   # y\n",
        "          predicted_pc_viz[:, 2],   # z\n",
        "          c=label[:], # height data for color\n",
        "          cmap='Spectral',\n",
        "          marker=\"x\")\n",
        "ax.axis('scaled')  # {equal, scaled}\n",
        "plt.show()"
      ],
      "metadata": {
        "colab": {
          "base_uri": "https://localhost:8080/",
          "height": 413
        },
        "id": "_8AiGOwvCLNq",
        "outputId": "a167ddcd-8641-497c-a1e4-bf2e5c1f6608"
      },
      "id": "_8AiGOwvCLNq",
      "execution_count": 9,
      "outputs": [
        {
          "output_type": "display_data",
          "data": {
            "text/plain": [
              "<Figure size 640x480 with 1 Axes>"
            ],
            "image/png": "[encoded data removed]"
          },
          "metadata": {}
        }
      ]
    },
    {
      "cell_type": "markdown",
      "source": [
        "今回のタスクは、物体のパーツ単位のセグメンテーションです。\n",
        "したがって、今回のセグメンテーション対象であるギターの各パーツである、ヘッド・ネック・ボディに分かれています。"
      ],
      "metadata": {
        "id": "Tim38_7EAZqk"
      },
      "id": "Tim38_7EAZqk"
    },
    {
      "cell_type": "markdown",
      "source": [
        "データローダーの設定"
      ],
      "metadata": {
        "id": "rzw5SedNw0Mp"
      },
      "id": "rzw5SedNw0Mp"
    },
    {
      "cell_type": "code",
      "execution_count": 10,
      "id": "8bee5029-3bdd-4fa8-9a37-4d024c0cf6b5",
      "metadata": {
        "id": "8bee5029-3bdd-4fa8-9a37-4d024c0cf6b5",
        "colab": {
          "base_uri": "https://localhost:8080/"
        },
        "outputId": "2660be4f-2d46-43c9-88bf-1b1dfc51b95f"
      },
      "outputs": [
        {
          "output_type": "stream",
          "name": "stderr",
          "text": [
            "/usr/local/lib/python3.9/dist-packages/torch/utils/data/dataloader.py:561: UserWarning: This DataLoader will create 6 worker processes in total. Our suggested max number of worker in current system is 2, which is smaller than what this DataLoader is going to create. Please be aware that excessive worker creation might get DataLoader running slow or even freeze, lower the worker number to avoid potential slowness/freeze if necessary.\n",
            "  warnings.warn(_create_warning_msg(\n"
          ]
        }
      ],
      "source": [
        "train_loader = DataLoader(\n",
        "    train_dataset, batch_size=config_batch_size,\n",
        "    shuffle=True, num_workers=config_num_workers\n",
        ")\n",
        "val_loader = DataLoader(\n",
        "    val_dataset, batch_size=config_batch_size,\n",
        "    shuffle=False, num_workers=config_num_workers\n",
        ")\n",
        "visualization_loader = DataLoader(\n",
        "    val_dataset[:10], batch_size=1,\n",
        "    shuffle=False, num_workers=config_num_workers\n",
        ")"
      ]
    },
    {
      "cell_type": "markdown",
      "id": "6d1bc429-7d54-411a-b477-b7bbc7bfc3d6",
      "metadata": {
        "id": "6d1bc429-7d54-411a-b477-b7bbc7bfc3d6"
      },
      "source": [
        "# PyTorch Geometricによる実装"
      ]
    },
    {
      "cell_type": "markdown",
      "source": [
        "今回はDGCNNという点群の深層学習手法を実装します。\n",
        "DGCNNはDynamic Graph CNNという手法で、各点に対して特徴量空間のKNNで周辺の点を検索し、そのKNNの点に対してDynamicEdgeConvを適用します。\n",
        "\n",
        "\n",
        "\n",
        "層の構造は、各点に対して`DynamicEdgeConv`を適用します。\n",
        "このDynamicEdgeConvを3回くりかえして、周辺点の情報を集約していきます。\n",
        "その後、最終層で各点ごとにクラス分類を行います。\n",
        "クラス分類には、単純なＭＬＰを適用し、出力次元数は分類したいクラス数と同じにします。\n",
        "この実装では、返り値を計算する際に、`F.log_softmax`を適用します。"
      ],
      "metadata": {
        "id": "CJsNI93Siuz0"
      },
      "id": "CJsNI93Siuz0"
    },
    {
      "cell_type": "code",
      "execution_count": 11,
      "id": "ac1bd7a8-585f-45fc-bc59-a8feec3512db",
      "metadata": {
        "id": "ac1bd7a8-585f-45fc-bc59-a8feec3512db"
      },
      "outputs": [],
      "source": [
        "class DGCNN(torch.nn.Module):\n",
        "    def __init__(self, out_channels, k=30, aggr='max'):\n",
        "        super().__init__()\n",
        "\n",
        "        self.conv1 = DynamicEdgeConv(MLP([2 * 6, 64, 64]), k, aggr)\n",
        "        self.conv2 = DynamicEdgeConv(MLP([2 * 64, 64, 64]), k, aggr)\n",
        "        self.conv3 = DynamicEdgeConv(MLP([2 * 64, 64, 64]), k, aggr)\n",
        "\n",
        "        self.mlp = MLP(\n",
        "            [3 * 64, 1024, 256, 128, out_channels],\n",
        "            dropout=0.5, norm=None\n",
        "        )\n",
        "\n",
        "    def forward(self, data):\n",
        "        x, pos, batch = data.x, data.pos, data.batch\n",
        "        x0 = torch.cat([x, pos], dim=-1)\n",
        "        \n",
        "        x1 = self.conv1(x0, batch)\n",
        "        x2 = self.conv2(x1, batch)\n",
        "        x3 = self.conv3(x2, batch)\n",
        "        \n",
        "        out = self.mlp(torch.cat([x1, x2, x3], dim=1))\n",
        "        return F.log_softmax(out, dim=1)"
      ]
    },
    {
      "cell_type": "markdown",
      "source": [
        "モデルの呼び出し"
      ],
      "metadata": {
        "id": "OgcpCYeNxCi3"
      },
      "id": "OgcpCYeNxCi3"
    },
    {
      "cell_type": "code",
      "execution_count": 12,
      "id": "5a677e7b-9179-4c71-b1dc-af636dcf95d5",
      "metadata": {
        "id": "5a677e7b-9179-4c71-b1dc-af636dcf95d5",
        "colab": {
          "base_uri": "https://localhost:8080/"
        },
        "outputId": "b85d7e33-7c5d-4f6f-da0a-cd4ae84b50d5"
      },
      "outputs": [
        {
          "output_type": "stream",
          "name": "stdout",
          "text": [
            "50\n"
          ]
        }
      ],
      "source": [
        "config_num_classes = train_dataset.num_classes\n",
        "print(config_num_classes)\n",
        "model = DGCNN(\n",
        "    out_channels=train_dataset.num_classes,\n",
        "    k=config_num_nearest_neighbours,\n",
        "    aggr=config_aggregation_operator\n",
        ").to(device)\n",
        "optimizer = torch.optim.Adam(model.parameters(), lr=config_initial_lr)\n",
        "scheduler = torch.optim.lr_scheduler.StepLR(\n",
        "    optimizer, step_size=config_lr_scheduler_step_size, gamma=config_gamma\n",
        ")"
      ]
    },
    {
      "cell_type": "markdown",
      "id": "3d94603b-51df-4299-ae69-f43617827d1c",
      "metadata": {
        "id": "3d94603b-51df-4299-ae69-f43617827d1c"
      },
      "source": [
        "# 訓練の実装"
      ]
    },
    {
      "cell_type": "code",
      "execution_count": 13,
      "id": "1a9fbe02-b095-4df7-ab6b-af0dd6a411bf",
      "metadata": {
        "id": "1a9fbe02-b095-4df7-ab6b-af0dd6a411bf"
      },
      "outputs": [],
      "source": [
        "def train_step(epoch):\n",
        "    model.train()\n",
        "    \n",
        "    ious, categories = [], []\n",
        "    total_loss = correct_nodes = total_nodes = 0\n",
        "    y_map = torch.empty(\n",
        "        train_loader.dataset.num_classes, device=device\n",
        "    ).long()\n",
        "    num_train_examples = len(train_loader)\n",
        "    \n",
        "    progress_bar = tqdm(\n",
        "        train_loader, desc=f\"Training Epoch {epoch}/{config_epochs}\"\n",
        "    )\n",
        "    \n",
        "    for data in progress_bar:\n",
        "        data = data.to(device)\n",
        "        \n",
        "        optimizer.zero_grad()\n",
        "        outs = model(data)\n",
        "        loss = F.nll_loss(outs, data.y)\n",
        "        loss.backward()\n",
        "        optimizer.step()\n",
        "        \n",
        "        total_loss += loss.item()\n",
        "        \n",
        "        correct_nodes += outs.argmax(dim=1).eq(data.y).sum().item()\n",
        "        total_nodes += data.num_nodes\n",
        "        \n",
        "        sizes = (data.ptr[1:] - data.ptr[:-1]).tolist()\n",
        "        for out, y, category in zip(outs.split(sizes), data.y.split(sizes),\n",
        "                                    data.category.tolist()):\n",
        "            category = list(ShapeNet.seg_classes.keys())[category]\n",
        "            part = ShapeNet.seg_classes[category]\n",
        "            part = torch.tensor(part, device=device)\n",
        "\n",
        "            y_map[part] = torch.arange(part.size(0), device=device)\n",
        "\n",
        "            jaccard_index = MulticlassJaccardIndex(num_classes=part.size(0)).to(device)\n",
        "\n",
        "            iou = jaccard_index(\n",
        "                out[:, part].argmax(dim=-1), y_map[y]\n",
        "            )\n",
        "            ious.append(iou)\n",
        "\n",
        "        categories.append(data.category)\n",
        "        \n",
        "    iou = torch.tensor(ious, device=device)\n",
        "    category = torch.cat(categories, dim=0)\n",
        "    mean_iou = float(scatter(iou, category, reduce='mean').mean())\n",
        "    \n",
        "    return {\n",
        "        \"Train/Loss\": total_loss / num_train_examples,\n",
        "        \"Train/Accuracy\": correct_nodes / total_nodes,\n",
        "        \"Train/IoU\": mean_iou\n",
        "    }"
      ]
    },
    {
      "cell_type": "code",
      "execution_count": 14,
      "id": "94d7e550-19b1-40b8-9e01-2997a694a4fa",
      "metadata": {
        "id": "94d7e550-19b1-40b8-9e01-2997a694a4fa"
      },
      "outputs": [],
      "source": [
        "@torch.no_grad()\n",
        "def val_step(epoch):\n",
        "    model.eval()\n",
        "\n",
        "    ious, categories = [], []\n",
        "    total_loss = correct_nodes = total_nodes = 0\n",
        "    y_map = torch.empty(\n",
        "        val_loader.dataset.num_classes, device=device\n",
        "    ).long()\n",
        "    num_val_examples = len(val_loader)\n",
        "    \n",
        "    progress_bar = tqdm(\n",
        "        val_loader, desc=f\"Validating Epoch {epoch}/{config_epochs}\"\n",
        "    )\n",
        "    \n",
        "    for data in progress_bar:\n",
        "        data = data.to(device)\n",
        "        outs = model(data)\n",
        "        \n",
        "        loss = F.nll_loss(outs, data.y)\n",
        "        total_loss += loss.item()\n",
        "        \n",
        "        correct_nodes += outs.argmax(dim=1).eq(data.y).sum().item()\n",
        "        total_nodes += data.num_nodes\n",
        "\n",
        "        sizes = (data.ptr[1:] - data.ptr[:-1]).tolist()\n",
        "        for out, y, category in zip(outs.split(sizes), data.y.split(sizes),\n",
        "                                    data.category.tolist()):\n",
        "            category = list(ShapeNet.seg_classes.keys())[category]\n",
        "            part = ShapeNet.seg_classes[category]\n",
        "            part = torch.tensor(part, device=device)\n",
        "\n",
        "            y_map[part] = torch.arange(part.size(0), device=device)\n",
        "            jaccard_index = MulticlassJaccardIndex(num_classes=part.size(0)).to(device)\n",
        "\n",
        "            iou = jaccard_index(\n",
        "                out[:, part].argmax(dim=-1), y_map[y]\n",
        "            )\n",
        "            ious.append(iou)\n",
        "\n",
        "        categories.append(data.category)\n",
        "\n",
        "    iou = torch.tensor(ious, device=device)\n",
        "    category = torch.cat(categories, dim=0)\n",
        "    mean_iou = float(scatter(iou, category, reduce='mean').mean())\n",
        "    \n",
        "    return {\n",
        "        \"Validation/Loss\": total_loss / num_val_examples,\n",
        "        \"Validation/Accuracy\": correct_nodes / total_nodes,\n",
        "        \"Validation/IoU\": mean_iou\n",
        "    }"
      ]
    },
    {
      "cell_type": "markdown",
      "source": [
        "結果を取得する関数"
      ],
      "metadata": {
        "id": "1oNiu4MPxaj3"
      },
      "id": "1oNiu4MPxaj3"
    },
    {
      "cell_type": "code",
      "execution_count": 15,
      "id": "da4fad76-f961-4a0a-9f37-c72c1422e885",
      "metadata": {
        "id": "da4fad76-f961-4a0a-9f37-c72c1422e885"
      },
      "outputs": [],
      "source": [
        "@torch.no_grad()\n",
        "def visualization_step(epoch):\n",
        "    model.eval()\n",
        "    for data in tqdm(visualization_loader):\n",
        "        data = data.to(device)\n",
        "        outs = model(data)\n",
        "\n",
        "        predicted_labels = outs.argmax(dim=1)\n",
        "        accuracy = predicted_labels.eq(data.y).sum().item() / data.num_nodes\n",
        "\n",
        "        sizes = (data.ptr[1:] - data.ptr[:-1]).tolist()\n",
        "        ious, categories = [], []\n",
        "        y_map = torch.empty(\n",
        "            visualization_loader.dataset.num_classes, device=device\n",
        "        ).long()\n",
        "        for out, y, category in zip(\n",
        "            outs.split(sizes), data.y.split(sizes), data.category.tolist()\n",
        "        ):\n",
        "            category = list(ShapeNet.seg_classes.keys())[category]\n",
        "            part = ShapeNet.seg_classes[category]\n",
        "            part = torch.tensor(part, device=device)\n",
        "            y_map[part] = torch.arange(part.size(0), device=device)\n",
        "            jaccard_index = MulticlassJaccardIndex(num_classes=part.size(0)).to(device)\n",
        "            iou = jaccard_index(\n",
        "                out[:, part].argmax(dim=-1), y_map[y]\n",
        "            )\n",
        "            ious.append(iou)\n",
        "        categories.append(data.category)\n",
        "        iou = torch.tensor(ious, device=device)\n",
        "        category = torch.cat(categories, dim=0)\n",
        "        mean_iou = float(scatter(iou, category, reduce='mean').mean())\n",
        "\n",
        "        gt_pc_viz = data.pos.cpu().numpy().tolist()\n",
        "        segmentation_label = data.y.cpu().numpy().tolist()\n",
        "        predicted_labels =  predicted_labels.cpu().numpy().tolist()\n",
        "        frequency_dict = {key: 0 for key in segmentation_class_frequency.keys()}\n",
        "        for label in set(segmentation_label):\n",
        "            frequency_dict[label] = segmentation_label.count(label)\n",
        "        for j in range(len(gt_pc_viz)):\n",
        "            # gt_pc_viz[j] += [segmentation_label[j] + 1 - class_offset]\n",
        "            gt_pc_viz[j] += [segmentation_label[j] + 1]\n",
        "\n",
        "        predicted_pc_viz = data.pos.cpu().numpy().tolist()\n",
        "        segmentation_label = data.y.cpu().numpy().tolist()\n",
        "        frequency_dict = {key: 0 for key in segmentation_class_frequency.keys()}\n",
        "        for label in set(segmentation_label):\n",
        "            frequency_dict[label] = segmentation_label.count(label)\n",
        "        for j in range(len(predicted_pc_viz)):\n",
        "            # predicted_pc_viz[j] += [segmentation_label[j] + 1 - class_offset]\n",
        "            predicted_pc_viz[j] += [predicted_labels[j] + 1]\n",
        "\n",
        "    \n",
        "    return predicted_pc_viz"
      ]
    },
    {
      "cell_type": "code",
      "execution_count": 16,
      "id": "e8c31a63-96a4-409f-bb0d-2b56b034adf0",
      "metadata": {
        "id": "e8c31a63-96a4-409f-bb0d-2b56b034adf0"
      },
      "outputs": [],
      "source": [
        "def save_checkpoint(epoch):\n",
        "    \"\"\"Save model checkpoints as Weights & Biases artifacts\"\"\"\n",
        "    torch.save({\n",
        "        'epoch': epoch,\n",
        "        'model_state_dict': model.state_dict(),\n",
        "        'optimizer_state_dict': optimizer.state_dict()\n",
        "    }, \"checkpoint.pt\")\n",
        "    \n"
      ]
    },
    {
      "cell_type": "markdown",
      "source": [
        "実際の訓練を回してみましょう。\n",
        "今回は1エポックですが、`config_epochs`の値を大きくすると学習する回数が多くなります。"
      ],
      "metadata": {
        "id": "Seixq_0XAM69"
      },
      "id": "Seixq_0XAM69"
    },
    {
      "cell_type": "code",
      "execution_count": 18,
      "id": "6f013430-fd25-4541-9dd3-3c67eef9074a",
      "metadata": {
        "id": "6f013430-fd25-4541-9dd3-3c67eef9074a",
        "colab": {
          "base_uri": "https://localhost:8080/",
          "height": 542,
          "referenced_widgets": [
            "e2e0cc1a3df84d5eaacfbff8dbd8a49b",
            "8417711728df421b8f0d2ed61e77ba8b",
            "35a4b50101454b129a2fc0a0e8c911ce",
            "8fac5e64d41d4db7b0893dcc3165a300",
            "ec874335e0d74c8db5a9f48ba75ce349",
            "933d89cacc044db6aa6e669cd7d36f4f",
            "b1aea25eca9f409998e71f15fb0702c2",
            "6ee6678fffc94bdb9f3b1d08d7d720f3",
            "f083187302534e3e9e16819d37adbcd1",
            "f8c533080a2b43c8aca119d74deb0349",
            "b1d817d78489475b9a632d9a77bfe416",
            "1f26f5bddf3b4cbfab32e70f754d1ea7",
            "8eb3a737665c41679416a9d2fb0b95c6",
            "93b8795876c44f7c9c0f34f6f4130a12",
            "4c5194ebbbfa4702b6b01889b8c10649",
            "5e6656c3f54945e0a8d1506a08568976",
            "e8a66da437834cc0806dc81d3eddf479",
            "0f75983422f44071b18e9cc7edcb28b2",
            "b2c943e332f74c90ac1fd522f42e37e0",
            "97f4b86a496d4f0ebd8aa4228081bb95",
            "71f804620a0f44aab30ab4fca7f61201",
            "9f19bbe10b314c8190070e4eb1520955",
            "baa795b5fe4645659f96612b2aa07a6b",
            "0e72954475ec43c2bc08b1e45c38d8b4",
            "0a4379f9a9eb4569aea4baed2430c4e7",
            "63283b7f1126475f970d552adc168957",
            "ffb2e8907a854216931d01560f712c7d",
            "5593c48768604c9285eb63068ca508ee",
            "e36e280145344350afc2734199f3af0c",
            "fc30a99bce51401b84117fcb631ade23",
            "04c9fa7f231f4bdd90e7dc98d04a540c",
            "8319e5e13df140858b90d05690b098f4",
            "654793cf52004bfaa4074047f89d8201"
          ]
        },
        "outputId": "a1aa2bf2-6268-48d4-a075-1ddf5129f520"
      },
      "outputs": [
        {
          "output_type": "display_data",
          "data": {
            "text/plain": [
              "  0%|          | 0/10 [00:00<?, ?it/s]"
            ],
            "application/vnd.jupyter.widget-view+json": {
              "version_major": 2,
              "version_minor": 0,
              "model_id": "e2e0cc1a3df84d5eaacfbff8dbd8a49b"
            }
          },
          "metadata": {}
        },
        {
          "output_type": "display_data",
          "data": {
            "text/plain": [
              "Training Epoch 1/1:   0%|          | 0/32 [00:00<?, ?it/s]"
            ],
            "application/vnd.jupyter.widget-view+json": {
              "version_major": 2,
              "version_minor": 0,
              "model_id": "1f26f5bddf3b4cbfab32e70f754d1ea7"
            }
          },
          "metadata": {}
        },
        {
          "output_type": "display_data",
          "data": {
            "text/plain": [
              "Validating Epoch 1/1:   0%|          | 0/8 [00:00<?, ?it/s]"
            ],
            "application/vnd.jupyter.widget-view+json": {
              "version_major": 2,
              "version_minor": 0,
              "model_id": "baa795b5fe4645659f96612b2aa07a6b"
            }
          },
          "metadata": {}
        },
        {
          "output_type": "stream",
          "name": "stdout",
          "text": [
            "{'Train/Loss': 0.2855552597902715, 'Train/Accuracy': 0.8858671456099727, 'Train/IoU': 0.49280500411987305, 'Validation/Loss': 0.22936853021383286, 'Validation/Accuracy': 0.9104818794633919, 'Validation/IoU': 0.5363754034042358}\n"
          ]
        },
        {
          "output_type": "display_data",
          "data": {
            "text/plain": [
              "<Figure size 640x480 with 1 Axes>"
            ],
            "image/png": "[encoded data removed]"
          },
          "metadata": {}
        }
      ],
      "source": [
        "import matplotlib.pyplot as plt\n",
        "from mpl_toolkits.mplot3d import Axes3D\n",
        "\n",
        "for epoch in range(1, config_epochs + 1):\n",
        "    predicted_pc_viz = visualization_step(epoch)\n",
        "    predicted_pc_viz = np.array(predicted_pc_viz)\n",
        "\n",
        "\n",
        "\n",
        "\n",
        "    train_metrics = train_step(epoch)\n",
        "    val_metrics = val_step(epoch)\n",
        "    \n",
        "    metrics = {**train_metrics, **val_metrics}\n",
        "    print(metrics)\n",
        "    metrics[\"learning_rate\"] = scheduler.get_last_lr()[-1]\n",
        "\n",
        "\n",
        "    \n",
        "    scheduler.step()\n",
        "    save_checkpoint(epoch)\n",
        "    fig = plt.figure()\n",
        "    ax = fig.add_subplot(111, projection='3d')\n",
        "\n",
        "    ax.scatter(predicted_pc_viz[:, 0],   # x\n",
        "              predicted_pc_viz[:, 1],   # y\n",
        "              predicted_pc_viz[:, 2],   # z\n",
        "              c=predicted_pc_viz[:, 3], # height data for color\n",
        "              cmap='Spectral',\n",
        "              marker=\"x\")\n",
        "    ax.axis('scaled')  # {equal, scaled}\n",
        "    plt.show()\n"
      ]
    },
    {
      "cell_type": "markdown",
      "source": [
        "学習回数が1エポックなので、あまり学習が進んでおわず、パーツ単位のセグメンテーションがうまくいっていないことがわかると思います。今回の講義では、時間の制約で1エポックとしていますが、エポック数を長く設定するともう少しセグメンテーションの結果が良くなります。"
      ],
      "metadata": {
        "id": "fcHWbwG0AFgR"
      },
      "id": "fcHWbwG0AFgR"
    }
  ],
  "metadata": {
    "kernelspec": {
      "display_name": "Python 3",
      "language": "python",
      "name": "python3"
    },
    "colab": {
      "provenance": [],
      "include_colab_link": true
    },
    "accelerator": "GPU",
    "gpuClass": "standard",
    "widgets": {
      "application/vnd.jupyter.widget-state+json": {
        "d07aed38782f497aa1767b09d23588bf": {
          "model_module": "@jupyter-widgets/controls",
          "model_name": "HBoxModel",
          "model_module_version": "1.5.0",
          "state": {
            "_dom_classes": [],
            "_model_module": "@jupyter-widgets/controls",
            "_model_module_version": "1.5.0",
            "_model_name": "HBoxModel",
            "_view_count": null,
            "_view_module": "@jupyter-widgets/controls",
            "_view_module_version": "1.5.0",
            "_view_name": "HBoxView",
            "box_style": "",
            "children": [
              "IPY_MODEL_20dd88f953474d40ad5b0b6e797a3dc2",
              "IPY_MODEL_ff9cbeae44be47a489f6dc1d4f0a6ae6",
              "IPY_MODEL_5e1130ea97774f7ca402036617fadd20"
            ],
            "layout": "IPY_MODEL_142642f855fa47599b5f0db1129b460e"
          }
        },
        "20dd88f953474d40ad5b0b6e797a3dc2": {
          "model_module": "@jupyter-widgets/controls",
          "model_name": "HTMLModel",
          "model_module_version": "1.5.0",
          "state": {
            "_dom_classes": [],
            "_model_module": "@jupyter-widgets/controls",
            "_model_module_version": "1.5.0",
            "_model_name": "HTMLModel",
            "_view_count": null,
            "_view_module": "@jupyter-widgets/controls",
            "_view_module_version": "1.5.0",
            "_view_name": "HTMLView",
            "description": "",
            "description_tooltip": null,
            "layout": "IPY_MODEL_aec2679123634bc19515452f903abf8b",
            "placeholder": "​",
            "style": "IPY_MODEL_c517402651d74b94ae7bdff79d15f2cf",
            "value": "100%"
          }
        },
        "ff9cbeae44be47a489f6dc1d4f0a6ae6": {
          "model_module": "@jupyter-widgets/controls",
          "model_name": "FloatProgressModel",
          "model_module_version": "1.5.0",
          "state": {
            "_dom_classes": [],
            "_model_module": "@jupyter-widgets/controls",
            "_model_module_version": "1.5.0",
            "_model_name": "FloatProgressModel",
            "_view_count": null,
            "_view_module": "@jupyter-widgets/controls",
            "_view_module_version": "1.5.0",
            "_view_name": "ProgressView",
            "bar_style": "success",
            "description": "",
            "description_tooltip": null,
            "layout": "IPY_MODEL_748ace531c8d4081bba5423739f65c88",
            "max": 628,
            "min": 0,
            "orientation": "horizontal",
            "style": "IPY_MODEL_8df1b203eaf74e728966591e55c2d834",
            "value": 628
          }
        },
        "5e1130ea97774f7ca402036617fadd20": {
          "model_module": "@jupyter-widgets/controls",
          "model_name": "HTMLModel",
          "model_module_version": "1.5.0",
          "state": {
            "_dom_classes": [],
            "_model_module": "@jupyter-widgets/controls",
            "_model_module_version": "1.5.0",
            "_model_name": "HTMLModel",
            "_view_count": null,
            "_view_module": "@jupyter-widgets/controls",
            "_view_module_version": "1.5.0",
            "_view_name": "HTMLView",
            "description": "",
            "description_tooltip": null,
            "layout": "IPY_MODEL_864725d5086c4c11b92c949951c83c41",
            "placeholder": "​",
            "style": "IPY_MODEL_bc252cba970e4dcc91ebac097d2438b5",
            "value": " 628/628 [00:01&lt;00:00, 352.02it/s]"
          }
        },
        "142642f855fa47599b5f0db1129b460e": {
          "model_module": "@jupyter-widgets/base",
          "model_name": "LayoutModel",
          "model_module_version": "1.2.0",
          "state": {
            "_model_module": "@jupyter-widgets/base",
            "_model_module_version": "1.2.0",
            "_model_name": "LayoutModel",
            "_view_count": null,
            "_view_module": "@jupyter-widgets/base",
            "_view_module_version": "1.2.0",
            "_view_name": "LayoutView",
            "align_content": null,
            "align_items": null,
            "align_self": null,
            "border": null,
            "bottom": null,
            "display": null,
            "flex": null,
            "flex_flow": null,
            "grid_area": null,
            "grid_auto_columns": null,
            "grid_auto_flow": null,
            "grid_auto_rows": null,
            "grid_column": null,
            "grid_gap": null,
            "grid_row": null,
            "grid_template_areas": null,
            "grid_template_columns": null,
            "grid_template_rows": null,
            "height": null,
            "justify_content": null,
            "justify_items": null,
            "left": null,
            "margin": null,
            "max_height": null,
            "max_width": null,
            "min_height": null,
            "min_width": null,
            "object_fit": null,
            "object_position": null,
            "order": null,
            "overflow": null,
            "overflow_x": null,
            "overflow_y": null,
            "padding": null,
            "right": null,
            "top": null,
            "visibility": null,
            "width": null
          }
        },
        "aec2679123634bc19515452f903abf8b": {
          "model_module": "@jupyter-widgets/base",
          "model_name": "LayoutModel",
          "model_module_version": "1.2.0",
          "state": {
            "_model_module": "@jupyter-widgets/base",
            "_model_module_version": "1.2.0",
            "_model_name": "LayoutModel",
            "_view_count": null,
            "_view_module": "@jupyter-widgets/base",
            "_view_module_version": "1.2.0",
            "_view_name": "LayoutView",
            "align_content": null,
            "align_items": null,
            "align_self": null,
            "border": null,
            "bottom": null,
            "display": null,
            "flex": null,
            "flex_flow": null,
            "grid_area": null,
            "grid_auto_columns": null,
            "grid_auto_flow": null,
            "grid_auto_rows": null,
            "grid_column": null,
            "grid_gap": null,
            "grid_row": null,
            "grid_template_areas": null,
            "grid_template_columns": null,
            "grid_template_rows": null,
            "height": null,
            "justify_content": null,
            "justify_items": null,
            "left": null,
            "margin": null,
            "max_height": null,
            "max_width": null,
            "min_height": null,
            "min_width": null,
            "object_fit": null,
            "object_position": null,
            "order": null,
            "overflow": null,
            "overflow_x": null,
            "overflow_y": null,
            "padding": null,
            "right": null,
            "top": null,
            "visibility": null,
            "width": null
          }
        },
        "c517402651d74b94ae7bdff79d15f2cf": {
          "model_module": "@jupyter-widgets/controls",
          "model_name": "DescriptionStyleModel",
          "model_module_version": "1.5.0",
          "state": {
            "_model_module": "@jupyter-widgets/controls",
            "_model_module_version": "1.5.0",
            "_model_name": "DescriptionStyleModel",
            "_view_count": null,
            "_view_module": "@jupyter-widgets/base",
            "_view_module_version": "1.2.0",
            "_view_name": "StyleView",
            "description_width": ""
          }
        },
        "748ace531c8d4081bba5423739f65c88": {
          "model_module": "@jupyter-widgets/base",
          "model_name": "LayoutModel",
          "model_module_version": "1.2.0",
          "state": {
            "_model_module": "@jupyter-widgets/base",
            "_model_module_version": "1.2.0",
            "_model_name": "LayoutModel",
            "_view_count": null,
            "_view_module": "@jupyter-widgets/base",
            "_view_module_version": "1.2.0",
            "_view_name": "LayoutView",
            "align_content": null,
            "align_items": null,
            "align_self": null,
            "border": null,
            "bottom": null,
            "display": null,
            "flex": null,
            "flex_flow": null,
            "grid_area": null,
            "grid_auto_columns": null,
            "grid_auto_flow": null,
            "grid_auto_rows": null,
            "grid_column": null,
            "grid_gap": null,
            "grid_row": null,
            "grid_template_areas": null,
            "grid_template_columns": null,
            "grid_template_rows": null,
            "height": null,
            "justify_content": null,
            "justify_items": null,
            "left": null,
            "margin": null,
            "max_height": null,
            "max_width": null,
            "min_height": null,
            "min_width": null,
            "object_fit": null,
            "object_position": null,
            "order": null,
            "overflow": null,
            "overflow_x": null,
            "overflow_y": null,
            "padding": null,
            "right": null,
            "top": null,
            "visibility": null,
            "width": null
          }
        },
        "8df1b203eaf74e728966591e55c2d834": {
          "model_module": "@jupyter-widgets/controls",
          "model_name": "ProgressStyleModel",
          "model_module_version": "1.5.0",
          "state": {
            "_model_module": "@jupyter-widgets/controls",
            "_model_module_version": "1.5.0",
            "_model_name": "ProgressStyleModel",
            "_view_count": null,
            "_view_module": "@jupyter-widgets/base",
            "_view_module_version": "1.2.0",
            "_view_name": "StyleView",
            "bar_color": null,
            "description_width": ""
          }
        },
        "864725d5086c4c11b92c949951c83c41": {
          "model_module": "@jupyter-widgets/base",
          "model_name": "LayoutModel",
          "model_module_version": "1.2.0",
          "state": {
            "_model_module": "@jupyter-widgets/base",
            "_model_module_version": "1.2.0",
            "_model_name": "LayoutModel",
            "_view_count": null,
            "_view_module": "@jupyter-widgets/base",
            "_view_module_version": "1.2.0",
            "_view_name": "LayoutView",
            "align_content": null,
            "align_items": null,
            "align_self": null,
            "border": null,
            "bottom": null,
            "display": null,
            "flex": null,
            "flex_flow": null,
            "grid_area": null,
            "grid_auto_columns": null,
            "grid_auto_flow": null,
            "grid_auto_rows": null,
            "grid_column": null,
            "grid_gap": null,
            "grid_row": null,
            "grid_template_areas": null,
            "grid_template_columns": null,
            "grid_template_rows": null,
            "height": null,
            "justify_content": null,
            "justify_items": null,
            "left": null,
            "margin": null,
            "max_height": null,
            "max_width": null,
            "min_height": null,
            "min_width": null,
            "object_fit": null,
            "object_position": null,
            "order": null,
            "overflow": null,
            "overflow_x": null,
            "overflow_y": null,
            "padding": null,
            "right": null,
            "top": null,
            "visibility": null,
            "width": null
          }
        },
        "bc252cba970e4dcc91ebac097d2438b5": {
          "model_module": "@jupyter-widgets/controls",
          "model_name": "DescriptionStyleModel",
          "model_module_version": "1.5.0",
          "state": {
            "_model_module": "@jupyter-widgets/controls",
            "_model_module_version": "1.5.0",
            "_model_name": "DescriptionStyleModel",
            "_view_count": null,
            "_view_module": "@jupyter-widgets/base",
            "_view_module_version": "1.2.0",
            "_view_name": "StyleView",
            "description_width": ""
          }
        },
        "e2e0cc1a3df84d5eaacfbff8dbd8a49b": {
          "model_module": "@jupyter-widgets/controls",
          "model_name": "HBoxModel",
          "model_module_version": "1.5.0",
          "state": {
            "_dom_classes": [],
            "_model_module": "@jupyter-widgets/controls",
            "_model_module_version": "1.5.0",
            "_model_name": "HBoxModel",
            "_view_count": null,
            "_view_module": "@jupyter-widgets/controls",
            "_view_module_version": "1.5.0",
            "_view_name": "HBoxView",
            "box_style": "",
            "children": [
              "IPY_MODEL_8417711728df421b8f0d2ed61e77ba8b",
              "IPY_MODEL_35a4b50101454b129a2fc0a0e8c911ce",
              "IPY_MODEL_8fac5e64d41d4db7b0893dcc3165a300"
            ],
            "layout": "IPY_MODEL_ec874335e0d74c8db5a9f48ba75ce349"
          }
        },
        "8417711728df421b8f0d2ed61e77ba8b": {
          "model_module": "@jupyter-widgets/controls",
          "model_name": "HTMLModel",
          "model_module_version": "1.5.0",
          "state": {
            "_dom_classes": [],
            "_model_module": "@jupyter-widgets/controls",
            "_model_module_version": "1.5.0",
            "_model_name": "HTMLModel",
            "_view_count": null,
            "_view_module": "@jupyter-widgets/controls",
            "_view_module_version": "1.5.0",
            "_view_name": "HTMLView",
            "description": "",
            "description_tooltip": null,
            "layout": "IPY_MODEL_933d89cacc044db6aa6e669cd7d36f4f",
            "placeholder": "​",
            "style": "IPY_MODEL_b1aea25eca9f409998e71f15fb0702c2",
            "value": "100%"
          }
        },
        "35a4b50101454b129a2fc0a0e8c911ce": {
          "model_module": "@jupyter-widgets/controls",
          "model_name": "FloatProgressModel",
          "model_module_version": "1.5.0",
          "state": {
            "_dom_classes": [],
            "_model_module": "@jupyter-widgets/controls",
            "_model_module_version": "1.5.0",
            "_model_name": "FloatProgressModel",
            "_view_count": null,
            "_view_module": "@jupyter-widgets/controls",
            "_view_module_version": "1.5.0",
            "_view_name": "ProgressView",
            "bar_style": "success",
            "description": "",
            "description_tooltip": null,
            "layout": "IPY_MODEL_6ee6678fffc94bdb9f3b1d08d7d720f3",
            "max": 10,
            "min": 0,
            "orientation": "horizontal",
            "style": "IPY_MODEL_f083187302534e3e9e16819d37adbcd1",
            "value": 10
          }
        },
        "8fac5e64d41d4db7b0893dcc3165a300": {
          "model_module": "@jupyter-widgets/controls",
          "model_name": "HTMLModel",
          "model_module_version": "1.5.0",
          "state": {
            "_dom_classes": [],
            "_model_module": "@jupyter-widgets/controls",
            "_model_module_version": "1.5.0",
            "_model_name": "HTMLModel",
            "_view_count": null,
            "_view_module": "@jupyter-widgets/controls",
            "_view_module_version": "1.5.0",
            "_view_name": "HTMLView",
            "description": "",
            "description_tooltip": null,
            "layout": "IPY_MODEL_f8c533080a2b43c8aca119d74deb0349",
            "placeholder": "​",
            "style": "IPY_MODEL_b1d817d78489475b9a632d9a77bfe416",
            "value": " 10/10 [00:02&lt;00:00,  6.69it/s]"
          }
        },
        "ec874335e0d74c8db5a9f48ba75ce349": {
          "model_module": "@jupyter-widgets/base",
          "model_name": "LayoutModel",
          "model_module_version": "1.2.0",
          "state": {
            "_model_module": "@jupyter-widgets/base",
            "_model_module_version": "1.2.0",
            "_model_name": "LayoutModel",
            "_view_count": null,
            "_view_module": "@jupyter-widgets/base",
            "_view_module_version": "1.2.0",
            "_view_name": "LayoutView",
            "align_content": null,
            "align_items": null,
            "align_self": null,
            "border": null,
            "bottom": null,
            "display": null,
            "flex": null,
            "flex_flow": null,
            "grid_area": null,
            "grid_auto_columns": null,
            "grid_auto_flow": null,
            "grid_auto_rows": null,
            "grid_column": null,
            "grid_gap": null,
            "grid_row": null,
            "grid_template_areas": null,
            "grid_template_columns": null,
            "grid_template_rows": null,
            "height": null,
            "justify_content": null,
            "justify_items": null,
            "left": null,
            "margin": null,
            "max_height": null,
            "max_width": null,
            "min_height": null,
            "min_width": null,
            "object_fit": null,
            "object_position": null,
            "order": null,
            "overflow": null,
            "overflow_x": null,
            "overflow_y": null,
            "padding": null,
            "right": null,
            "top": null,
            "visibility": null,
            "width": null
          }
        },
        "933d89cacc044db6aa6e669cd7d36f4f": {
          "model_module": "@jupyter-widgets/base",
          "model_name": "LayoutModel",
          "model_module_version": "1.2.0",
          "state": {
            "_model_module": "@jupyter-widgets/base",
            "_model_module_version": "1.2.0",
            "_model_name": "LayoutModel",
            "_view_count": null,
            "_view_module": "@jupyter-widgets/base",
            "_view_module_version": "1.2.0",
            "_view_name": "LayoutView",
            "align_content": null,
            "align_items": null,
            "align_self": null,
            "border": null,
            "bottom": null,
            "display": null,
            "flex": null,
            "flex_flow": null,
            "grid_area": null,
            "grid_auto_columns": null,
            "grid_auto_flow": null,
            "grid_auto_rows": null,
            "grid_column": null,
            "grid_gap": null,
            "grid_row": null,
            "grid_template_areas": null,
            "grid_template_columns": null,
            "grid_template_rows": null,
            "height": null,
            "justify_content": null,
            "justify_items": null,
            "left": null,
            "margin": null,
            "max_height": null,
            "max_width": null,
            "min_height": null,
            "min_width": null,
            "object_fit": null,
            "object_position": null,
            "order": null,
            "overflow": null,
            "overflow_x": null,
            "overflow_y": null,
            "padding": null,
            "right": null,
            "top": null,
            "visibility": null,
            "width": null
          }
        },
        "b1aea25eca9f409998e71f15fb0702c2": {
          "model_module": "@jupyter-widgets/controls",
          "model_name": "DescriptionStyleModel",
          "model_module_version": "1.5.0",
          "state": {
            "_model_module": "@jupyter-widgets/controls",
            "_model_module_version": "1.5.0",
            "_model_name": "DescriptionStyleModel",
            "_view_count": null,
            "_view_module": "@jupyter-widgets/base",
            "_view_module_version": "1.2.0",
            "_view_name": "StyleView",
            "description_width": ""
          }
        },
        "6ee6678fffc94bdb9f3b1d08d7d720f3": {
          "model_module": "@jupyter-widgets/base",
          "model_name": "LayoutModel",
          "model_module_version": "1.2.0",
          "state": {
            "_model_module": "@jupyter-widgets/base",
            "_model_module_version": "1.2.0",
            "_model_name": "LayoutModel",
            "_view_count": null,
            "_view_module": "@jupyter-widgets/base",
            "_view_module_version": "1.2.0",
            "_view_name": "LayoutView",
            "align_content": null,
            "align_items": null,
            "align_self": null,
            "border": null,
            "bottom": null,
            "display": null,
            "flex": null,
            "flex_flow": null,
            "grid_area": null,
            "grid_auto_columns": null,
            "grid_auto_flow": null,
            "grid_auto_rows": null,
            "grid_column": null,
            "grid_gap": null,
            "grid_row": null,
            "grid_template_areas": null,
            "grid_template_columns": null,
            "grid_template_rows": null,
            "height": null,
            "justify_content": null,
            "justify_items": null,
            "left": null,
            "margin": null,
            "max_height": null,
            "max_width": null,
            "min_height": null,
            "min_width": null,
            "object_fit": null,
            "object_position": null,
            "order": null,
            "overflow": null,
            "overflow_x": null,
            "overflow_y": null,
            "padding": null,
            "right": null,
            "top": null,
            "visibility": null,
            "width": null
          }
        },
        "f083187302534e3e9e16819d37adbcd1": {
          "model_module": "@jupyter-widgets/controls",
          "model_name": "ProgressStyleModel",
          "model_module_version": "1.5.0",
          "state": {
            "_model_module": "@jupyter-widgets/controls",
            "_model_module_version": "1.5.0",
            "_model_name": "ProgressStyleModel",
            "_view_count": null,
            "_view_module": "@jupyter-widgets/base",
            "_view_module_version": "1.2.0",
            "_view_name": "StyleView",
            "bar_color": null,
            "description_width": ""
          }
        },
        "f8c533080a2b43c8aca119d74deb0349": {
          "model_module": "@jupyter-widgets/base",
          "model_name": "LayoutModel",
          "model_module_version": "1.2.0",
          "state": {
            "_model_module": "@jupyter-widgets/base",
            "_model_module_version": "1.2.0",
            "_model_name": "LayoutModel",
            "_view_count": null,
            "_view_module": "@jupyter-widgets/base",
            "_view_module_version": "1.2.0",
            "_view_name": "LayoutView",
            "align_content": null,
            "align_items": null,
            "align_self": null,
            "border": null,
            "bottom": null,
            "display": null,
            "flex": null,
            "flex_flow": null,
            "grid_area": null,
            "grid_auto_columns": null,
            "grid_auto_flow": null,
            "grid_auto_rows": null,
            "grid_column": null,
            "grid_gap": null,
            "grid_row": null,
            "grid_template_areas": null,
            "grid_template_columns": null,
            "grid_template_rows": null,
            "height": null,
            "justify_content": null,
            "justify_items": null,
            "left": null,
            "margin": null,
            "max_height": null,
            "max_width": null,
            "min_height": null,
            "min_width": null,
            "object_fit": null,
            "object_position": null,
            "order": null,
            "overflow": null,
            "overflow_x": null,
            "overflow_y": null,
            "padding": null,
            "right": null,
            "top": null,
            "visibility": null,
            "width": null
          }
        },
        "b1d817d78489475b9a632d9a77bfe416": {
          "model_module": "@jupyter-widgets/controls",
          "model_name": "DescriptionStyleModel",
          "model_module_version": "1.5.0",
          "state": {
            "_model_module": "@jupyter-widgets/controls",
            "_model_module_version": "1.5.0",
            "_model_name": "DescriptionStyleModel",
            "_view_count": null,
            "_view_module": "@jupyter-widgets/base",
            "_view_module_version": "1.2.0",
            "_view_name": "StyleView",
            "description_width": ""
          }
        },
        "1f26f5bddf3b4cbfab32e70f754d1ea7": {
          "model_module": "@jupyter-widgets/controls",
          "model_name": "HBoxModel",
          "model_module_version": "1.5.0",
          "state": {
            "_dom_classes": [],
            "_model_module": "@jupyter-widgets/controls",
            "_model_module_version": "1.5.0",
            "_model_name": "HBoxModel",
            "_view_count": null,
            "_view_module": "@jupyter-widgets/controls",
            "_view_module_version": "1.5.0",
            "_view_name": "HBoxView",
            "box_style": "",
            "children": [
              "IPY_MODEL_8eb3a737665c41679416a9d2fb0b95c6",
              "IPY_MODEL_93b8795876c44f7c9c0f34f6f4130a12",
              "IPY_MODEL_4c5194ebbbfa4702b6b01889b8c10649"
            ],
            "layout": "IPY_MODEL_5e6656c3f54945e0a8d1506a08568976"
          }
        },
        "8eb3a737665c41679416a9d2fb0b95c6": {
          "model_module": "@jupyter-widgets/controls",
          "model_name": "HTMLModel",
          "model_module_version": "1.5.0",
          "state": {
            "_dom_classes": [],
            "_model_module": "@jupyter-widgets/controls",
            "_model_module_version": "1.5.0",
            "_model_name": "HTMLModel",
            "_view_count": null,
            "_view_module": "@jupyter-widgets/controls",
            "_view_module_version": "1.5.0",
            "_view_name": "HTMLView",
            "description": "",
            "description_tooltip": null,
            "layout": "IPY_MODEL_e8a66da437834cc0806dc81d3eddf479",
            "placeholder": "​",
            "style": "IPY_MODEL_0f75983422f44071b18e9cc7edcb28b2",
            "value": "Training Epoch 1/1: 100%"
          }
        },
        "93b8795876c44f7c9c0f34f6f4130a12": {
          "model_module": "@jupyter-widgets/controls",
          "model_name": "FloatProgressModel",
          "model_module_version": "1.5.0",
          "state": {
            "_dom_classes": [],
            "_model_module": "@jupyter-widgets/controls",
            "_model_module_version": "1.5.0",
            "_model_name": "FloatProgressModel",
            "_view_count": null,
            "_view_module": "@jupyter-widgets/controls",
            "_view_module_version": "1.5.0",
            "_view_name": "ProgressView",
            "bar_style": "success",
            "description": "",
            "description_tooltip": null,
            "layout": "IPY_MODEL_b2c943e332f74c90ac1fd522f42e37e0",
            "max": 32,
            "min": 0,
            "orientation": "horizontal",
            "style": "IPY_MODEL_97f4b86a496d4f0ebd8aa4228081bb95",
            "value": 32
          }
        },
        "4c5194ebbbfa4702b6b01889b8c10649": {
          "model_module": "@jupyter-widgets/controls",
          "model_name": "HTMLModel",
          "model_module_version": "1.5.0",
          "state": {
            "_dom_classes": [],
            "_model_module": "@jupyter-widgets/controls",
            "_model_module_version": "1.5.0",
            "_model_name": "HTMLModel",
            "_view_count": null,
            "_view_module": "@jupyter-widgets/controls",
            "_view_module_version": "1.5.0",
            "_view_name": "HTMLView",
            "description": "",
            "description_tooltip": null,
            "layout": "IPY_MODEL_71f804620a0f44aab30ab4fca7f61201",
            "placeholder": "​",
            "style": "IPY_MODEL_9f19bbe10b314c8190070e4eb1520955",
            "value": " 32/32 [00:46&lt;00:00,  1.14s/it]"
          }
        },
        "5e6656c3f54945e0a8d1506a08568976": {
          "model_module": "@jupyter-widgets/base",
          "model_name": "LayoutModel",
          "model_module_version": "1.2.0",
          "state": {
            "_model_module": "@jupyter-widgets/base",
            "_model_module_version": "1.2.0",
            "_model_name": "LayoutModel",
            "_view_count": null,
            "_view_module": "@jupyter-widgets/base",
            "_view_module_version": "1.2.0",
            "_view_name": "LayoutView",
            "align_content": null,
            "align_items": null,
            "align_self": null,
            "border": null,
            "bottom": null,
            "display": null,
            "flex": null,
            "flex_flow": null,
            "grid_area": null,
            "grid_auto_columns": null,
            "grid_auto_flow": null,
            "grid_auto_rows": null,
            "grid_column": null,
            "grid_gap": null,
            "grid_row": null,
            "grid_template_areas": null,
            "grid_template_columns": null,
            "grid_template_rows": null,
            "height": null,
            "justify_content": null,
            "justify_items": null,
            "left": null,
            "margin": null,
            "max_height": null,
            "max_width": null,
            "min_height": null,
            "min_width": null,
            "object_fit": null,
            "object_position": null,
            "order": null,
            "overflow": null,
            "overflow_x": null,
            "overflow_y": null,
            "padding": null,
            "right": null,
            "top": null,
            "visibility": null,
            "width": null
          }
        },
        "e8a66da437834cc0806dc81d3eddf479": {
          "model_module": "@jupyter-widgets/base",
          "model_name": "LayoutModel",
          "model_module_version": "1.2.0",
          "state": {
            "_model_module": "@jupyter-widgets/base",
            "_model_module_version": "1.2.0",
            "_model_name": "LayoutModel",
            "_view_count": null,
            "_view_module": "@jupyter-widgets/base",
            "_view_module_version": "1.2.0",
            "_view_name": "LayoutView",
            "align_content": null,
            "align_items": null,
            "align_self": null,
            "border": null,
            "bottom": null,
            "display": null,
            "flex": null,
            "flex_flow": null,
            "grid_area": null,
            "grid_auto_columns": null,
            "grid_auto_flow": null,
            "grid_auto_rows": null,
            "grid_column": null,
            "grid_gap": null,
            "grid_row": null,
            "grid_template_areas": null,
            "grid_template_columns": null,
            "grid_template_rows": null,
            "height": null,
            "justify_content": null,
            "justify_items": null,
            "left": null,
            "margin": null,
            "max_height": null,
            "max_width": null,
            "min_height": null,
            "min_width": null,
            "object_fit": null,
            "object_position": null,
            "order": null,
            "overflow": null,
            "overflow_x": null,
            "overflow_y": null,
            "padding": null,
            "right": null,
            "top": null,
            "visibility": null,
            "width": null
          }
        },
        "0f75983422f44071b18e9cc7edcb28b2": {
          "model_module": "@jupyter-widgets/controls",
          "model_name": "DescriptionStyleModel",
          "model_module_version": "1.5.0",
          "state": {
            "_model_module": "@jupyter-widgets/controls",
            "_model_module_version": "1.5.0",
            "_model_name": "DescriptionStyleModel",
            "_view_count": null,
            "_view_module": "@jupyter-widgets/base",
            "_view_module_version": "1.2.0",
            "_view_name": "StyleView",
            "description_width": ""
          }
        },
        "b2c943e332f74c90ac1fd522f42e37e0": {
          "model_module": "@jupyter-widgets/base",
          "model_name": "LayoutModel",
          "model_module_version": "1.2.0",
          "state": {
            "_model_module": "@jupyter-widgets/base",
            "_model_module_version": "1.2.0",
            "_model_name": "LayoutModel",
            "_view_count": null,
            "_view_module": "@jupyter-widgets/base",
            "_view_module_version": "1.2.0",
            "_view_name": "LayoutView",
            "align_content": null,
            "align_items": null,
            "align_self": null,
            "border": null,
            "bottom": null,
            "display": null,
            "flex": null,
            "flex_flow": null,
            "grid_area": null,
            "grid_auto_columns": null,
            "grid_auto_flow": null,
            "grid_auto_rows": null,
            "grid_column": null,
            "grid_gap": null,
            "grid_row": null,
            "grid_template_areas": null,
            "grid_template_columns": null,
            "grid_template_rows": null,
            "height": null,
            "justify_content": null,
            "justify_items": null,
            "left": null,
            "margin": null,
            "max_height": null,
            "max_width": null,
            "min_height": null,
            "min_width": null,
            "object_fit": null,
            "object_position": null,
            "order": null,
            "overflow": null,
            "overflow_x": null,
            "overflow_y": null,
            "padding": null,
            "right": null,
            "top": null,
            "visibility": null,
            "width": null
          }
        },
        "97f4b86a496d4f0ebd8aa4228081bb95": {
          "model_module": "@jupyter-widgets/controls",
          "model_name": "ProgressStyleModel",
          "model_module_version": "1.5.0",
          "state": {
            "_model_module": "@jupyter-widgets/controls",
            "_model_module_version": "1.5.0",
            "_model_name": "ProgressStyleModel",
            "_view_count": null,
            "_view_module": "@jupyter-widgets/base",
            "_view_module_version": "1.2.0",
            "_view_name": "StyleView",
            "bar_color": null,
            "description_width": ""
          }
        },
        "71f804620a0f44aab30ab4fca7f61201": {
          "model_module": "@jupyter-widgets/base",
          "model_name": "LayoutModel",
          "model_module_version": "1.2.0",
          "state": {
            "_model_module": "@jupyter-widgets/base",
            "_model_module_version": "1.2.0",
            "_model_name": "LayoutModel",
            "_view_count": null,
            "_view_module": "@jupyter-widgets/base",
            "_view_module_version": "1.2.0",
            "_view_name": "LayoutView",
            "align_content": null,
            "align_items": null,
            "align_self": null,
            "border": null,
            "bottom": null,
            "display": null,
            "flex": null,
            "flex_flow": null,
            "grid_area": null,
            "grid_auto_columns": null,
            "grid_auto_flow": null,
            "grid_auto_rows": null,
            "grid_column": null,
            "grid_gap": null,
            "grid_row": null,
            "grid_template_areas": null,
            "grid_template_columns": null,
            "grid_template_rows": null,
            "height": null,
            "justify_content": null,
            "justify_items": null,
            "left": null,
            "margin": null,
            "max_height": null,
            "max_width": null,
            "min_height": null,
            "min_width": null,
            "object_fit": null,
            "object_position": null,
            "order": null,
            "overflow": null,
            "overflow_x": null,
            "overflow_y": null,
            "padding": null,
            "right": null,
            "top": null,
            "visibility": null,
            "width": null
          }
        },
        "9f19bbe10b314c8190070e4eb1520955": {
          "model_module": "@jupyter-widgets/controls",
          "model_name": "DescriptionStyleModel",
          "model_module_version": "1.5.0",
          "state": {
            "_model_module": "@jupyter-widgets/controls",
            "_model_module_version": "1.5.0",
            "_model_name": "DescriptionStyleModel",
            "_view_count": null,
            "_view_module": "@jupyter-widgets/base",
            "_view_module_version": "1.2.0",
            "_view_name": "StyleView",
            "description_width": ""
          }
        },
        "baa795b5fe4645659f96612b2aa07a6b": {
          "model_module": "@jupyter-widgets/controls",
          "model_name": "HBoxModel",
          "model_module_version": "1.5.0",
          "state": {
            "_dom_classes": [],
            "_model_module": "@jupyter-widgets/controls",
            "_model_module_version": "1.5.0",
            "_model_name": "HBoxModel",
            "_view_count": null,
            "_view_module": "@jupyter-widgets/controls",
            "_view_module_version": "1.5.0",
            "_view_name": "HBoxView",
            "box_style": "",
            "children": [
              "IPY_MODEL_0e72954475ec43c2bc08b1e45c38d8b4",
              "IPY_MODEL_0a4379f9a9eb4569aea4baed2430c4e7",
              "IPY_MODEL_63283b7f1126475f970d552adc168957"
            ],
            "layout": "IPY_MODEL_ffb2e8907a854216931d01560f712c7d"
          }
        },
        "0e72954475ec43c2bc08b1e45c38d8b4": {
          "model_module": "@jupyter-widgets/controls",
          "model_name": "HTMLModel",
          "model_module_version": "1.5.0",
          "state": {
            "_dom_classes": [],
            "_model_module": "@jupyter-widgets/controls",
            "_model_module_version": "1.5.0",
            "_model_name": "HTMLModel",
            "_view_count": null,
            "_view_module": "@jupyter-widgets/controls",
            "_view_module_version": "1.5.0",
            "_view_name": "HTMLView",
            "description": "",
            "description_tooltip": null,
            "layout": "IPY_MODEL_5593c48768604c9285eb63068ca508ee",
            "placeholder": "​",
            "style": "IPY_MODEL_e36e280145344350afc2734199f3af0c",
            "value": "Validating Epoch 1/1: 100%"
          }
        },
        "0a4379f9a9eb4569aea4baed2430c4e7": {
          "model_module": "@jupyter-widgets/controls",
          "model_name": "FloatProgressModel",
          "model_module_version": "1.5.0",
          "state": {
            "_dom_classes": [],
            "_model_module": "@jupyter-widgets/controls",
            "_model_module_version": "1.5.0",
            "_model_name": "FloatProgressModel",
            "_view_count": null,
            "_view_module": "@jupyter-widgets/controls",
            "_view_module_version": "1.5.0",
            "_view_name": "ProgressView",
            "bar_style": "success",
            "description": "",
            "description_tooltip": null,
            "layout": "IPY_MODEL_fc30a99bce51401b84117fcb631ade23",
            "max": 8,
            "min": 0,
            "orientation": "horizontal",
            "style": "IPY_MODEL_04c9fa7f231f4bdd90e7dc98d04a540c",
            "value": 8
          }
        },
        "63283b7f1126475f970d552adc168957": {
          "model_module": "@jupyter-widgets/controls",
          "model_name": "HTMLModel",
          "model_module_version": "1.5.0",
          "state": {
            "_dom_classes": [],
            "_model_module": "@jupyter-widgets/controls",
            "_model_module_version": "1.5.0",
            "_model_name": "HTMLModel",
            "_view_count": null,
            "_view_module": "@jupyter-widgets/controls",
            "_view_module_version": "1.5.0",
            "_view_name": "HTMLView",
            "description": "",
            "description_tooltip": null,
            "layout": "IPY_MODEL_8319e5e13df140858b90d05690b098f4",
            "placeholder": "​",
            "style": "IPY_MODEL_654793cf52004bfaa4074047f89d8201",
            "value": " 8/8 [00:11&lt;00:00,  1.26s/it]"
          }
        },
        "ffb2e8907a854216931d01560f712c7d": {
          "model_module": "@jupyter-widgets/base",
          "model_name": "LayoutModel",
          "model_module_version": "1.2.0",
          "state": {
            "_model_module": "@jupyter-widgets/base",
            "_model_module_version": "1.2.0",
            "_model_name": "LayoutModel",
            "_view_count": null,
            "_view_module": "@jupyter-widgets/base",
            "_view_module_version": "1.2.0",
            "_view_name": "LayoutView",
            "align_content": null,
            "align_items": null,
            "align_self": null,
            "border": null,
            "bottom": null,
            "display": null,
            "flex": null,
            "flex_flow": null,
            "grid_area": null,
            "grid_auto_columns": null,
            "grid_auto_flow": null,
            "grid_auto_rows": null,
            "grid_column": null,
            "grid_gap": null,
            "grid_row": null,
            "grid_template_areas": null,
            "grid_template_columns": null,
            "grid_template_rows": null,
            "height": null,
            "justify_content": null,
            "justify_items": null,
            "left": null,
            "margin": null,
            "max_height": null,
            "max_width": null,
            "min_height": null,
            "min_width": null,
            "object_fit": null,
            "object_position": null,
            "order": null,
            "overflow": null,
            "overflow_x": null,
            "overflow_y": null,
            "padding": null,
            "right": null,
            "top": null,
            "visibility": null,
            "width": null
          }
        },
        "5593c48768604c9285eb63068ca508ee": {
          "model_module": "@jupyter-widgets/base",
          "model_name": "LayoutModel",
          "model_module_version": "1.2.0",
          "state": {
            "_model_module": "@jupyter-widgets/base",
            "_model_module_version": "1.2.0",
            "_model_name": "LayoutModel",
            "_view_count": null,
            "_view_module": "@jupyter-widgets/base",
            "_view_module_version": "1.2.0",
            "_view_name": "LayoutView",
            "align_content": null,
            "align_items": null,
            "align_self": null,
            "border": null,
            "bottom": null,
            "display": null,
            "flex": null,
            "flex_flow": null,
            "grid_area": null,
            "grid_auto_columns": null,
            "grid_auto_flow": null,
            "grid_auto_rows": null,
            "grid_column": null,
            "grid_gap": null,
            "grid_row": null,
            "grid_template_areas": null,
            "grid_template_columns": null,
            "grid_template_rows": null,
            "height": null,
            "justify_content": null,
            "justify_items": null,
            "left": null,
            "margin": null,
            "max_height": null,
            "max_width": null,
            "min_height": null,
            "min_width": null,
            "object_fit": null,
            "object_position": null,
            "order": null,
            "overflow": null,
            "overflow_x": null,
            "overflow_y": null,
            "padding": null,
            "right": null,
            "top": null,
            "visibility": null,
            "width": null
          }
        },
        "e36e280145344350afc2734199f3af0c": {
          "model_module": "@jupyter-widgets/controls",
          "model_name": "DescriptionStyleModel",
          "model_module_version": "1.5.0",
          "state": {
            "_model_module": "@jupyter-widgets/controls",
            "_model_module_version": "1.5.0",
            "_model_name": "DescriptionStyleModel",
            "_view_count": null,
            "_view_module": "@jupyter-widgets/base",
            "_view_module_version": "1.2.0",
            "_view_name": "StyleView",
            "description_width": ""
          }
        },
        "fc30a99bce51401b84117fcb631ade23": {
          "model_module": "@jupyter-widgets/base",
          "model_name": "LayoutModel",
          "model_module_version": "1.2.0",
          "state": {
            "_model_module": "@jupyter-widgets/base",
            "_model_module_version": "1.2.0",
            "_model_name": "LayoutModel",
            "_view_count": null,
            "_view_module": "@jupyter-widgets/base",
            "_view_module_version": "1.2.0",
            "_view_name": "LayoutView",
            "align_content": null,
            "align_items": null,
            "align_self": null,
            "border": null,
            "bottom": null,
            "display": null,
            "flex": null,
            "flex_flow": null,
            "grid_area": null,
            "grid_auto_columns": null,
            "grid_auto_flow": null,
            "grid_auto_rows": null,
            "grid_column": null,
            "grid_gap": null,
            "grid_row": null,
            "grid_template_areas": null,
            "grid_template_columns": null,
            "grid_template_rows": null,
            "height": null,
            "justify_content": null,
            "justify_items": null,
            "left": null,
            "margin": null,
            "max_height": null,
            "max_width": null,
            "min_height": null,
            "min_width": null,
            "object_fit": null,
            "object_position": null,
            "order": null,
            "overflow": null,
            "overflow_x": null,
            "overflow_y": null,
            "padding": null,
            "right": null,
            "top": null,
            "visibility": null,
            "width": null
          }
        },
        "04c9fa7f231f4bdd90e7dc98d04a540c": {
          "model_module": "@jupyter-widgets/controls",
          "model_name": "ProgressStyleModel",
          "model_module_version": "1.5.0",
          "state": {
            "_model_module": "@jupyter-widgets/controls",
            "_model_module_version": "1.5.0",
            "_model_name": "ProgressStyleModel",
            "_view_count": null,
            "_view_module": "@jupyter-widgets/base",
            "_view_module_version": "1.2.0",
            "_view_name": "StyleView",
            "bar_color": null,
            "description_width": ""
          }
        },
        "8319e5e13df140858b90d05690b098f4": {
          "model_module": "@jupyter-widgets/base",
          "model_name": "LayoutModel",
          "model_module_version": "1.2.0",
          "state": {
            "_model_module": "@jupyter-widgets/base",
            "_model_module_version": "1.2.0",
            "_model_name": "LayoutModel",
            "_view_count": null,
            "_view_module": "@jupyter-widgets/base",
            "_view_module_version": "1.2.0",
            "_view_name": "LayoutView",
            "align_content": null,
            "align_items": null,
            "align_self": null,
            "border": null,
            "bottom": null,
            "display": null,
            "flex": null,
            "flex_flow": null,
            "grid_area": null,
            "grid_auto_columns": null,
            "grid_auto_flow": null,
            "grid_auto_rows": null,
            "grid_column": null,
            "grid_gap": null,
            "grid_row": null,
            "grid_template_areas": null,
            "grid_template_columns": null,
            "grid_template_rows": null,
            "height": null,
            "justify_content": null,
            "justify_items": null,
            "left": null,
            "margin": null,
            "max_height": null,
            "max_width": null,
            "min_height": null,
            "min_width": null,
            "object_fit": null,
            "object_position": null,
            "order": null,
            "overflow": null,
            "overflow_x": null,
            "overflow_y": null,
            "padding": null,
            "right": null,
            "top": null,
            "visibility": null,
            "width": null
          }
        },
        "654793cf52004bfaa4074047f89d8201": {
          "model_module": "@jupyter-widgets/controls",
          "model_name": "DescriptionStyleModel",
          "model_module_version": "1.5.0",
          "state": {
            "_model_module": "@jupyter-widgets/controls",
            "_model_module_version": "1.5.0",
            "_model_name": "DescriptionStyleModel",
            "_view_count": null,
            "_view_module": "@jupyter-widgets/base",
            "_view_module_version": "1.2.0",
            "_view_name": "StyleView",
            "description_width": ""
          }
        }
      }
    }
  },
  "nbformat": 4,
  "nbformat_minor": 5
}