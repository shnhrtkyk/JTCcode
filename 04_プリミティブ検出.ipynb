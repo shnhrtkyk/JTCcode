{
  "cells": [
    {
      "cell_type": "markdown",
      "metadata": {
        "id": "view-in-github",
        "colab_type": "text"
      },
      "source": [
        "<a href=\"https://colab.research.google.com/github/shnhrtkyk/JTCcode/blob/main/04_%E3%83%97%E3%83%AA%E3%83%9F%E3%83%86%E3%82%A3%E3%83%96%E6%A4%9C%E5%87%BA.ipynb\" target=\"_parent\"><img src=\"https://colab.research.google.com/assets/colab-badge.svg\" alt=\"Open In Colab\"/></a>"
      ]
    },
    {
      "cell_type": "markdown",
      "metadata": {
        "id": "mO_prgFk29cm"
      },
      "source": [
        "# プリミティブ検出\n"
      ]
    },
    {
      "cell_type": "markdown",
      "source": [
        "点群のなかから、平面や球などの単純な図形を検出する処理を「プリミティブ検出」と呼びます。\n",
        "机の上に並べた対象物を検出したい場合、事前に平面を検出しておき、その部分の点群を削除してしまえば、\n",
        "個々の物体を簡単に単離（検出）することができます。\n",
        "\n",
        "このように身の回りの構造物の多くは、単純な数式で記述できるプリミティブ形状であることが多いため、\n",
        "プリミティブ検出は、シーン理解のためのかなり強力な前処理として利用することができます。\n",
        "ここでは、RANSACを使ったプリミティブ検出アルゴリズムについて紹介します。"
      ],
      "metadata": {
        "id": "Ucp9tpno3FhE"
      }
    },
    {
      "cell_type": "markdown",
      "source": [
        "## データのダウンロード\n",
        "机の上に日用品がおかれた状態を点群で観測した公開データを用います。"
      ],
      "metadata": {
        "id": "Yv4siNrl3GCC"
      }
    },
    {
      "cell_type": "code",
      "source": [
        "!git clone --recursive https://github.com/3d-point-cloud-processing/3dpcp_book_codes"
      ],
      "metadata": {
        "id": "wNFkWCeK3Chz"
      },
      "execution_count": null,
      "outputs": []
    },
    {
      "cell_type": "markdown",
      "source": [
        "## ライブラリインストール"
      ],
      "metadata": {
        "id": "hTYWeeYs3KNB"
      }
    },
    {
      "cell_type": "code",
      "source": [
        "!pip install open3d==0.16"
      ],
      "metadata": {
        "id": "BUQvZAM-3Uiy"
      },
      "execution_count": null,
      "outputs": []
    },
    {
      "cell_type": "markdown",
      "metadata": {
        "id": "ywIIlZvr29cp"
      },
      "source": [
        "\n",
        "\n",
        "## 平面の検出\n",
        "Open3Dによる平面検出について紹介します。\n",
        "対象となる点群データは```tabletop_scene1.ply```です。読み込んで表示してみましょう。\n",
        "このデータは机の上に配置した球やうさぎなどを計測した点群です。\n"
      ]
    },
    {
      "cell_type": "code",
      "execution_count": null,
      "metadata": {
        "id": "jc_fit0u29cq"
      },
      "outputs": [],
      "source": [
        "import open3d as o3d\n",
        "import numpy as np\n",
        "import copy"
      ]
    },
    {
      "cell_type": "code",
      "execution_count": null,
      "metadata": {
        "id": "xh3dl35229cr"
      },
      "outputs": [],
      "source": [
        "pcd = o3d.io.read_point_cloud(\"/content/3dpcp_book_codes/data/tabletop_scene.ply\")\n",
        "o3d.visualization.draw_plotly(\n",
        "  [pcd],\n",
        "  width=1200,\n",
        "  height=800,\n",
        "  front=[  -0.066170093019535442, 0.40212907450402163, -0.91318876812427185 ], # 表示位置の設定\n",
        "  lookat=[ 0.02917175397384137, -0.0088117591406781711, 0.52859723520459312 ],   # 表示位置の設定\n",
        "  up=[-0.032373407578752206, -0.91557794182184093, -0.40083537135714736]     # 表示位置の設定\n",
        ")\n",
        "\n"
      ]
    },
    {
      "cell_type": "markdown",
      "metadata": {
        "id": "rviLT3Fz29cr"
      },
      "source": [
        "この点群から、平面検出によって、机の面を検出してみましょう。\n",
        "Open3Dでは、```segment_plane()```が平面検出を実行する関数として用意されています。\n",
        "実行してみましょう。"
      ]
    },
    {
      "cell_type": "code",
      "execution_count": null,
      "metadata": {
        "id": "JF7iNcV029cr"
      },
      "outputs": [],
      "source": [
        "# Open3Dの平面検出の関数を利用する\n",
        "plane_model, inliers = pcd.segment_plane(distance_threshold=0.005,\n",
        "                                         ransac_n=3,\n",
        "                                         num_iterations=500)\n",
        "# 平面パラメータを確認する\n",
        "[a, b, c, d] = plane_model\n",
        "print(f\"Plane equation: {a:.2f}x + {b:.2f}y + {c:.2f}z + {d:.2f} = 0\")"
      ]
    },
    {
      "cell_type": "markdown",
      "metadata": {
        "id": "zQMaxnqV29cr"
      },
      "source": [
        "関数```segment_plane()```では、RANSACによる平面検出を実行します。\n",
        "引数は次の通りです。\n",
        "- distance_threshold\n",
        "    - RANSACの「評価」処理で利用されます。平面のインライアとして判定するための距離のしきい値です。0.005を設定すると、平面から距離5mm以内の点をインライアとしてみなします。\n",
        "- ransac_n\n",
        "    - RANSACの「サンプリング」処理で利用されます。この点数から平面のパラメータを計算します。\n",
        "- num_iteration\n",
        "    - RANSACの「サンプリング」と「評価」の繰り返し回数です。\n",
        "\n",
        "出力は次の通りです。\n",
        "- plane_model\n",
        "    - 平面パラメータ\n",
        "- inliers\n",
        "    - 元の点群における、平面上の点のインデックスのリスト\n",
        "    \n",
        "\n",
        "```inliers```には、平面上の点のインデックスが保存されていますので、これを使って結果を確認しましょう。\n",
        "以下のコードでは、インデックスのリストを使って、点群を平面上のもの（赤色）と、それ以外に分けています。"
      ]
    },
    {
      "cell_type": "code",
      "execution_count": null,
      "metadata": {
        "id": "UYFGkbXj29cs"
      },
      "outputs": [],
      "source": [
        "# 平面検出関数で取得したインデックスに基づいて、平面の点群を抽出する\n",
        "plane_cloud = pcd.select_by_index(inliers)\n",
        "# 平面の点群を赤色に着色する\n",
        "plane_cloud.paint_uniform_color([1.0, 0, 0])\n",
        "# 平面以外の点群を指定する\n",
        "outlier_cloud = pcd.select_by_index(inliers, invert=True)"
      ]
    },
    {
      "cell_type": "code",
      "execution_count": null,
      "metadata": {
        "id": "wj0OR2HZ29cs"
      },
      "outputs": [],
      "source": [
        "o3d.visualization.draw_plotly(\n",
        "  [plane_cloud, outlier_cloud],\n",
        "  width=1200,\n",
        "  height=800,\n",
        "  front=[  -0.066170093019535442, 0.40212907450402163, -0.91318876812427185 ], # 表示位置の設定\n",
        "  lookat=[ 0.02917175397384137, -0.0088117591406781711, 0.52859723520459312 ],   # 表示位置の設定\n",
        "  up=[-0.032373407578752206, -0.91557794182184093, -0.40083537135714736]     # 表示位置の設定\n",
        ")"
      ]
    },
    {
      "cell_type": "markdown",
      "metadata": {
        "id": "5VvwDRBc29cs"
      },
      "source": [
        "机を計測した点群のみが赤色に変更されており、うまく平面検出に成功したことがわかります。\n",
        "\n",
        "なお、平面検出の結果におけるplane_modelは平面を表現するパラメータです。\n",
        "3次元の点を$(x,y,z)$とすると、平面は$ax+by+cz+d=0$で表せます。\n",
        "したがって、平面検出をおこなうRANSACのモデルパラメータは$a,b,c,d$となります。\n",
        "\n"
      ]
    }
  ],
  "metadata": {
    "interpreter": {
      "hash": "7ff7921a05d4b33fcdaa9b6a1dc1d4dbafd2e92b2a11aeda024c9918aab18837"
    },
    "kernelspec": {
      "display_name": "Python 3 (ipykernel)",
      "language": "python",
      "name": "python3"
    },
    "language_info": {
      "codemirror_mode": {
        "name": "ipython",
        "version": 3
      },
      "file_extension": ".py",
      "mimetype": "text/x-python",
      "name": "python",
      "nbconvert_exporter": "python",
      "pygments_lexer": "ipython3",
      "version": "3.8.10"
    },
    "colab": {
      "provenance": [],
      "include_colab_link": true
    }
  },
  "nbformat": 4,
  "nbformat_minor": 0
}