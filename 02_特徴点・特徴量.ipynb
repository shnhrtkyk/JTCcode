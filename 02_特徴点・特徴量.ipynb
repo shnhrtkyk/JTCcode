{
  "nbformat": 4,
  "nbformat_minor": 0,
  "metadata": {
    "colab": {
      "provenance": [],
      "include_colab_link": true
    },
    "kernelspec": {
      "name": "python3",
      "display_name": "Python 3"
    },
    "language_info": {
      "name": "python"
    }
  },
  "cells": [
    {
      "cell_type": "markdown",
      "metadata": {
        "id": "view-in-github",
        "colab_type": "text"
      },
      "source": [
        "<a href=\"https://colab.research.google.com/github/shnhrtkyk/JTCcode/blob/main/02_%E7%89%B9%E5%BE%B4%E7%82%B9%E3%83%BB%E7%89%B9%E5%BE%B4%E9%87%8F.ipynb\" target=\"_parent\"><img src=\"https://colab.research.google.com/assets/colab-badge.svg\" alt=\"Open In Colab\"/></a>"
      ]
    },
    {
      "cell_type": "markdown",
      "source": [
        "# 特徴点・特徴量"
      ],
      "metadata": {
        "id": "UczJWjm70n2T"
      }
    },
    {
      "cell_type": "markdown",
      "source": [
        "## ライブラリのインストール"
      ],
      "metadata": {
        "id": "4dS3vmuI0x0c"
      }
    },
    {
      "cell_type": "code",
      "source": [
        "!pip install open3d==0.16"
      ],
      "metadata": {
        "id": "f02bwp0i01hi"
      },
      "execution_count": null,
      "outputs": []
    },
    {
      "cell_type": "markdown",
      "source": [
        "## データのダウンロード"
      ],
      "metadata": {
        "id": "iNwYxCwm2VGC"
      }
    },
    {
      "cell_type": "code",
      "source": [
        "!wget http://graphics.stanford.edu/pub/3Dscanrep/bunny.tar.gz\n",
        "!tar xvfz ./bunny.tar.gz"
      ],
      "metadata": {
        "id": "XS-FHSH02W7q"
      },
      "execution_count": null,
      "outputs": []
    },
    {
      "cell_type": "markdown",
      "source": [
        "## 特徴点"
      ],
      "metadata": {
        "id": "fKUGbWdO00fk"
      }
    },
    {
      "cell_type": "markdown",
      "source": [
        "### Hariis3D"
      ],
      "metadata": {
        "id": "X9grPTRv5zNj"
      }
    },
    {
      "cell_type": "code",
      "source": [
        "import sys\n",
        "import open3d as o3d\n",
        "import numpy as np\n",
        "\n",
        "\n",
        "# This function is only used to make the keypoints look better on the rendering\n",
        "def keypoints_to_spheres(keypoints):\n",
        "    spheres = o3d.geometry.TriangleMesh()\n",
        "    for keypoint in keypoints.points:\n",
        "        sphere = o3d.geometry.TriangleMesh.create_sphere(radius=0.005)\n",
        "        sphere.translate(keypoint)\n",
        "        spheres += sphere\n",
        "    spheres.paint_uniform_color([1.0, 1.0, 1.0])\n",
        "    return spheres\n",
        "\n",
        "\n",
        "def compute_harris3d_keypoints( pcd, radius=0.01, max_nn=10, threshold=0.001 ):\n",
        "    pcd.estimate_normals(\n",
        "        search_param=o3d.geometry.KDTreeSearchParamHybrid(radius=radius, max_nn=max_nn))\n",
        "    pcd_tree = o3d.geometry.KDTreeFlann(pcd)\n",
        "    harris = np.zeros( len(np.asarray(pcd.points)) )\n",
        "    is_active = np.zeros( len(np.asarray(pcd.points)), dtype=bool )\n",
        "\n",
        "    # Compute Harris response\n",
        "    for i in range( len(np.asarray(pcd.points)) ):\n",
        "        [num_nn, inds, _] = pcd_tree.search_knn_vector_3d(pcd.points[i], max_nn)\n",
        "        pcd_normals = pcd.select_by_index(inds)\n",
        "        pcd_normals.points = pcd_normals.normals\n",
        "        [_, covar] = pcd_normals.compute_mean_and_covariance()\n",
        "        harris[ i ] = np.linalg.det( covar ) / np.trace( covar )\n",
        "        if (harris[ i ] > threshold):\n",
        "            is_active[ i ] = True\n",
        "\n",
        "    # ノンマキシマムサプレッション\n",
        "    for i in range( len(np.asarray(pcd.points)) ):\n",
        "        if is_active[ i ]:\n",
        "            [num_nn, inds, _] = pcd_tree.search_knn_vector_3d(pcd.points[i], max_nn)\n",
        "            inds.pop( harris[inds].argmax() )\n",
        "            is_active[ inds ] = False\n",
        "\n",
        "    keypoints = pcd.select_by_index(np.where(is_active)[0])\n",
        "    return keypoints\n",
        "\n",
        "# main\n",
        "filename = \"bunny/reconstruction/bun_zipper.ply\"\n",
        "print(\"Loading a point cloud from\", filename)\n",
        "pcd = o3d.io.read_point_cloud(filename)\n",
        "print(pcd)\n",
        "\n",
        "keypoints = compute_harris3d_keypoints( pcd )\n",
        "print(keypoints)\n",
        "\n",
        "pcd.paint_uniform_color([0.5, 0.5, 0.5])\n",
        "o3d.visualization.draw_plotly(\n",
        "  [keypoints_to_spheres(keypoints), pcd],\n",
        "  width=1200,\n",
        "  height=800\n",
        ")\n"
      ],
      "metadata": {
        "id": "nx08WyGj07bz"
      },
      "execution_count": null,
      "outputs": []
    },
    {
      "cell_type": "markdown",
      "source": [
        "### ISS"
      ],
      "metadata": {
        "id": "3JATmvmp53UJ"
      }
    },
    {
      "cell_type": "code",
      "source": [
        "import sys\n",
        "import open3d as o3d\n",
        "# This function is only used to make the keypoints look better on the rendering\n",
        "def keypoints_to_spheres(keypoints):\n",
        "    spheres = o3d.geometry.TriangleMesh()\n",
        "    for keypoint in keypoints.points:\n",
        "        sphere = o3d.geometry.TriangleMesh.create_sphere(radius=0.005)\n",
        "        sphere.translate(keypoint)\n",
        "        spheres += sphere\n",
        "    spheres.paint_uniform_color([1.0, 1.0, 1.0])\n",
        "    return spheres\n",
        "\n",
        "filename = \"bunny/reconstruction/bun_zipper.ply\"\n",
        "print(\"Loading a point cloud from\", filename)\n",
        "pcd = o3d.io.read_point_cloud(filename)\n",
        "print(pcd)\n",
        "\n",
        "keypoints = \\\n",
        "o3d.geometry.keypoint.compute_iss_keypoints(pcd,\n",
        "                                            salient_radius=0.005,\n",
        "                                            non_max_radius=0.005,\n",
        "                                            gamma_21=0.5,\n",
        "                                            gamma_32=0.5)\n",
        "print(keypoints)\n",
        "\n",
        "pcd.estimate_normals(\n",
        "    search_param=o3d.geometry.KDTreeSearchParamHybrid(radius=0.01, max_nn=10))\n",
        "pcd.paint_uniform_color([0.5, 0.5, 0.5])\n",
        "pcd.paint_uniform_color([0.5, 0.5, 0.5])\n",
        "o3d.visualization.draw_plotly(\n",
        "  [keypoints_to_spheres(keypoints), pcd],\n",
        "  width=1200,\n",
        "  height=800\n",
        ")"
      ],
      "metadata": {
        "id": "uHoexphD6HmK"
      },
      "execution_count": null,
      "outputs": []
    },
    {
      "cell_type": "markdown",
      "source": [
        "## 局所特徴量"
      ],
      "metadata": {
        "id": "lqfuiV9b0X2A"
      }
    },
    {
      "cell_type": "markdown",
      "source": [
        "### FPFH\n"
      ],
      "metadata": {
        "id": "z_2hBIyj0xuY"
      }
    },
    {
      "cell_type": "code",
      "source": [
        "import sys\n",
        "import open3d as o3d\n",
        "\n",
        "filename = \"bunny/reconstruction/bun_zipper.ply\"\n",
        "print(\"Loading a point cloud from\", filename)\n",
        "pcd = o3d.io.read_point_cloud(filename)\n",
        "print(pcd)\n",
        "\n",
        "pcd.estimate_normals(\n",
        "    search_param = o3d.geometry.KDTreeSearchParamHybrid(radius=0.01, max_nn=10))\n",
        "\n",
        "fpfh = o3d.pipelines.registration.compute_fpfh_feature(pcd,\n",
        "    search_param = o3d.geometry.KDTreeSearchParamHybrid(radius=0.03, max_nn=100))\n",
        "\n",
        "print(fpfh)\n",
        "print(fpfh.data.shape)\n"
      ],
      "metadata": {
        "id": "bkdjqjec0XOY"
      },
      "execution_count": null,
      "outputs": []
    },
    {
      "cell_type": "markdown",
      "source": [
        "## 大域特徴量"
      ],
      "metadata": {
        "id": "RA1c8LcfVO2R"
      }
    },
    {
      "cell_type": "markdown",
      "source": [
        "### 3D shape histogram"
      ],
      "metadata": {
        "id": "Cc62OGOP3d_4"
      }
    },
    {
      "cell_type": "code",
      "source": [
        "def getShapeHistogram(Ps, Ns, NShells, RMax):\n",
        "    hist = np.zeros(NShells)\n",
        "    bins = np.square(np.linspace(0.0, RMax, NShells + 1))\n",
        "    indices = np.digitize(np.sum(np.multiply(Ps, Ps), axis=0), bins) - 1\n",
        "    count = np.bincount(indices)[:NShells]\n",
        "    hist[:count.shape[0]] = count\n",
        "    return hist\n",
        ""
      ],
      "metadata": {
        "id": "4PSP7bRyVQ8i"
      },
      "execution_count": null,
      "outputs": []
    },
    {
      "cell_type": "code",
      "source": [
        "import matplotlib.pyplot as plt\n",
        "filename = \"bunny/reconstruction/bun_zipper.ply\"\n",
        "print(\"Loading a point cloud from\", filename)\n",
        "pcd = o3d.io.read_point_cloud(filename)\n",
        "points = np.asarray(pcd.points).transpose()\n",
        "\n",
        "pcd.estimate_normals(search_param=o3d.geometry.KDTreeSearchParamHybrid(radius=0.1, max_nn=30))\n",
        "normals = np.asarray(pcd.normals).transpose()\n",
        "\n",
        "bins = 30 # histogramのビン数\n",
        "maxr = 0.3 # 最大の半径をどれくらいにするか\n",
        "hist = getShapeHistogram(points, normals, bins, maxr)\n",
        "\n",
        "\n",
        "fig = plt.figure()\n",
        "ax = fig.add_subplot(1, 1, 1)\n",
        "x = range(30)\n",
        "ax.bar(x, hist)\n",
        "plt.show()"
      ],
      "metadata": {
        "colab": {
          "base_uri": "https://localhost:8080/",
          "height": 448
        },
        "id": "RV6Axjy34SZu",
        "outputId": "b53d70cc-d229-4b93-ee67-16d16d423c8b"
      },
      "execution_count": 43,
      "outputs": [
        {
          "output_type": "stream",
          "name": "stdout",
          "text": [
            "Loading a point cloud from bunny/reconstruction/bun_zipper.ply\n"
          ]
        },
        {
          "output_type": "display_data",
          "data": {
            "text/plain": [
              "<Figure size 640x480 with 1 Axes>"
            ],
            "image/png": "[encoded data removed]"
          },
          "metadata": {}
        }
      ]
    },
    {
      "cell_type": "code",
      "source": [],
      "metadata": {
        "id": "Xug1T6Ak7TqF"
      },
      "execution_count": null,
      "outputs": []
    }
  ]
}