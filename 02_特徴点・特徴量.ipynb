{
  "nbformat": 4,
  "nbformat_minor": 0,
  "metadata": {
    "colab": {
      "provenance": [],
      "include_colab_link": true
    },
    "kernelspec": {
      "name": "python3",
      "display_name": "Python 3"
    },
    "language_info": {
      "name": "python"
    }
  },
  "cells": [
    {
      "cell_type": "markdown",
      "metadata": {
        "id": "view-in-github",
        "colab_type": "text"
      },
      "source": [
        "<a href=\"https://colab.research.google.com/github/shnhrtkyk/JTCcode/blob/main/02_%E7%89%B9%E5%BE%B4%E7%82%B9%E3%83%BB%E7%89%B9%E5%BE%B4%E9%87%8F.ipynb\" target=\"_parent\"><img src=\"https://colab.research.google.com/assets/colab-badge.svg\" alt=\"Open In Colab\"/></a>"
      ]
    },
    {
      "cell_type": "markdown",
      "source": [
        "# 特徴点・特徴量"
      ],
      "metadata": {
        "id": "UczJWjm70n2T"
      }
    },
    {
      "cell_type": "markdown",
      "source": [
        "## ライブラリのインストール"
      ],
      "metadata": {
        "id": "4dS3vmuI0x0c"
      }
    },
    {
      "cell_type": "code",
      "source": [
        "!pip install open3d==0.16"
      ],
      "metadata": {
        "id": "f02bwp0i01hi"
      },
      "execution_count": null,
      "outputs": []
    },
    {
      "cell_type": "markdown",
      "source": [
        "## データのダウンロード\n",
        "点群解析の分野で広く用いられるスタンフォードバニーと呼ばれるうさぎの点群を用います"
      ],
      "metadata": {
        "id": "iNwYxCwm2VGC"
      }
    },
    {
      "cell_type": "code",
      "source": [
        "!wget http://graphics.stanford.edu/pub/3Dscanrep/bunny.tar.gz\n",
        "!tar xvfz ./bunny.tar.gz"
      ],
      "metadata": {
        "id": "XS-FHSH02W7q"
      },
      "execution_count": null,
      "outputs": []
    },
    {
      "cell_type": "markdown",
      "source": [
        "## 特徴点\n",
        "特徴点の算出にはHariis3Dと呼ばれるアルゴリズムを用います。"
      ],
      "metadata": {
        "id": "fKUGbWdO00fk"
      }
    },
    {
      "cell_type": "markdown",
      "source": [
        "### Hariis3D"
      ],
      "metadata": {
        "id": "X9grPTRv5zNj"
      }
    },
    {
      "cell_type": "markdown",
      "source": [
        "Hariis3DはOpen3Dに関数が用意されていないため、Numpyで実装します。\n",
        "Hariis3Dでを特徴点を抽出する関数は`compute_harris3d_keypoints`です。\n"
      ],
      "metadata": {
        "id": "gXqYBn5BrGhY"
      }
    },
    {
      "cell_type": "code",
      "source": [
        "import sys\n",
        "import open3d as o3d\n",
        "import numpy as np\n",
        "\n",
        "\n",
        "# この関数は特徴点を可視化するために球を作成します\n",
        "def keypoints_to_spheres(keypoints):\n",
        "    spheres = o3d.geometry.TriangleMesh()\n",
        "    for keypoint in keypoints.points:\n",
        "        sphere = o3d.geometry.TriangleMesh.create_sphere(radius=0.005)\n",
        "        sphere.translate(keypoint)\n",
        "        spheres += sphere\n",
        "    spheres.paint_uniform_color([1.0, 1.0, 1.0])\n",
        "    return spheres\n",
        "\n",
        "# Harris3Dを計算する関数\n",
        "# 引数には，pcd:点群，radius: 探索する半径,  max_nn: 近傍点の数, threshold: 閾値\n",
        "def compute_harris3d_keypoints(pcd, radius=0.01, max_nn=10, threshold=0.001 ):\n",
        "    # まず，各点の法線を求めます\n",
        "    pcd.estimate_normals(\n",
        "        search_param=o3d.geometry.KDTreeSearchParamHybrid(radius=radius, max_nn=max_nn))\n",
        "    pcd_tree = o3d.geometry.KDTreeFlann(pcd)\n",
        "    harris = np.zeros( len(np.asarray(pcd.points)) )\n",
        "    is_active = np.zeros( len(np.asarray(pcd.points)), dtype=bool )\n",
        "\n",
        "    # 次に，Harris3Dを求めます\n",
        "    for i in range( len(np.asarray(pcd.points)) ):\n",
        "        # 各点の最近傍の点を検索します\n",
        "        [num_nn, inds, _] = pcd_tree.search_knn_vector_3d(pcd.points[i], max_nn)\n",
        "        # 最近傍の点のみを解析対象にする\n",
        "        pcd_normals = pcd.select_by_index(inds)\n",
        "        pcd_normals.points = pcd_normals.normals\n",
        "        # 法線の平均値と共分散を計算する\n",
        "        [_, covar] = pcd_normals.compute_mean_and_covariance()\n",
        "        # 平均値と共分散に基づいて，Harris3Dを計算する\n",
        "        harris[ i ] = np.linalg.det( covar ) / np.trace( covar )\n",
        "        if (harris[ i ] > threshold):\n",
        "            is_active[ i ] = True\n",
        "\n",
        "    # ノンマキシマムサプレッションで過剰検出を抑制\n",
        "    for i in range( len(np.asarray(pcd.points)) ):\n",
        "        if is_active[ i ]:\n",
        "            [num_nn, inds, _] = pcd_tree.search_knn_vector_3d(pcd.points[i], max_nn)\n",
        "            inds.pop( harris[inds].argmax() )\n",
        "            is_active[ inds ] = False\n",
        "\n",
        "    keypoints = pcd.select_by_index(np.where(is_active)[0])\n",
        "    return keypoints\n",
        "\n",
        "# ファイル名の定義，今回はcolab上にダウンロードしたスタンフォードバニーを用います\n",
        "filename = \"bunny/reconstruction/bun_zipper.ply\"\n",
        "print(\"Loading a point cloud from\", filename)\n",
        "# oprn3dの読み込み関数を利用\n",
        "pcd = o3d.io.read_point_cloud(filename)\n",
        "print(pcd)\n",
        "# 特徴点取得関数の呼び出し\n",
        "keypoints = compute_harris3d_keypoints( pcd )\n",
        "print(keypoints)\n",
        "# 可視化を行います\n",
        "pcd.paint_uniform_color([0.5, 0.5, 0.5])\n",
        "o3d.visualization.draw_plotly(\n",
        "  [keypoints_to_spheres(keypoints), pcd],\n",
        "  width=1200,\n",
        "  height=800,\n",
        "  front=[ 0.0, 0.0, 1.0], # 表示位置の設定\n",
        "  lookat=[ -0.016840399999999998, 0.11015419999999999, -0.0015369499999999987],   # 表示位置の設定\n",
        "  up=[0.0, 1.0, 0.0]     # 表示位置の設定\n",
        ")\n"
      ],
      "metadata": {
        "id": "nx08WyGj07bz"
      },
      "execution_count": null,
      "outputs": []
    },
    {
      "cell_type": "markdown",
      "source": [
        "### ISS"
      ],
      "metadata": {
        "id": "3JATmvmp53UJ"
      }
    },
    {
      "cell_type": "markdown",
      "source": [
        "ISSはOpen3Dに用意されており、`compute_iss_keypoints`を用います。\n",
        "\n"
      ],
      "metadata": {
        "id": "B7eMSfTDrEnC"
      }
    },
    {
      "cell_type": "code",
      "source": [
        "import sys\n",
        "import open3d as o3d\n",
        "\n",
        "# この関数は特徴点を可視化するために球を作成します\n",
        "def keypoints_to_spheres(keypoints):\n",
        "    spheres = o3d.geometry.TriangleMesh()\n",
        "    for keypoint in keypoints.points:\n",
        "        sphere = o3d.geometry.TriangleMesh.create_sphere(radius=0.005)\n",
        "        sphere.translate(keypoint)\n",
        "        spheres += sphere\n",
        "    spheres.paint_uniform_color([1.0, 1.0, 1.0])\n",
        "    return spheres\n",
        "\n",
        "# ファイル名の定義，今回はcolab上にダウンロードしたスタンフォードバニーを用います\n",
        "filename = \"bunny/reconstruction/bun_zipper.ply\"\n",
        "print(\"Loading a point cloud from\", filename)\n",
        "# oprn3dの読み込み関数を利用\n",
        "pcd = o3d.io.read_point_cloud(filename)\n",
        "print(pcd)\n",
        "\n",
        "# 特徴点の取得をopen3dで用意されている関数を用いて実行\n",
        "keypoints = \\\n",
        "o3d.geometry.keypoint.compute_iss_keypoints(pcd)\n",
        "print(keypoints)\n",
        "# 法線の推定\n",
        "pcd.estimate_normals(\n",
        "    search_param=o3d.geometry.KDTreeSearchParamHybrid(radius=0.01, max_nn=10))\n",
        "pcd.paint_uniform_color([0.5, 0.5, 0.5])\n",
        "pcd.paint_uniform_color([0.5, 0.5, 0.5])\n",
        "o3d.visualization.draw_plotly(\n",
        "  [keypoints_to_spheres(keypoints), pcd],\n",
        "  width=1200,\n",
        "  height=800,\n",
        "  front=[ 0.0, 0.0, 1.0], # 表示位置の設定\n",
        "  lookat=[ -0.016840399999999998, 0.11015419999999999, -0.0015369499999999987],   # 表示位置の設定\n",
        "  up=[0.0, 1.0, 0.0]     # 表示位置の設定\n",
        ")\n"
      ],
      "metadata": {
        "id": "uHoexphD6HmK"
      },
      "execution_count": null,
      "outputs": []
    },
    {
      "cell_type": "markdown",
      "source": [
        "## 特徴量\n",
        "特徴量の作成には，点ごとの特徴に着目した局所特徴量と，点群全体の特徴に着目した大域特徴量に分かれます\n",
        "\n",
        "## 局所特徴量\n",
        "まずは局所特徴量について説明します\n",
        "点群の局所特徴量は、画像のマッチングに使用される画素の特長量と同様の考え方です。\n",
        "違う角度から取得された点群どうしのマッチングに利用可能な点の特徴量を計算します．\n"
      ],
      "metadata": {
        "id": "lqfuiV9b0X2A"
      }
    },
    {
      "cell_type": "markdown",
      "source": [
        "### FPFH\n"
      ],
      "metadata": {
        "id": "z_2hBIyj0xuY"
      }
    },
    {
      "cell_type": "markdown",
      "source": [
        "FPFHは、Open3Dの`compute_fpfh_feature`で取得できます。\n",
        "引数は、特徴量を計算したい点群と、`search_param`には各店の特徴量を計算する際に使用する周辺の点の設定を渡します。`radius=0.03, max_nn=100`を上げ下げすると、特徴量の値は変わります。\n",
        "\n"
      ],
      "metadata": {
        "id": "Mza9g2QXtR0A"
      }
    },
    {
      "cell_type": "code",
      "source": [
        "import sys\n",
        "import open3d as o3d\n",
        "\n",
        "# ファイル名の定義，今回はcolab上にダウンロードしたスタンフォードバニーを用います\n",
        "filename = \"bunny/reconstruction/bun_zipper.ply\"\n",
        "print(\"Loading a point cloud from\", filename)\n",
        "# oprn3dの読み込み関数を利用\n",
        "pcd = o3d.io.read_point_cloud(filename)\n",
        "print(pcd)\n",
        "# 特徴量の計算に使用するため，各点の法線を計算します\n",
        "pcd.estimate_normals(\n",
        "    search_param = o3d.geometry.KDTreeSearchParamHybrid(radius=0.01, max_nn=10))\n",
        "\n",
        "# open3d のfprh特徴量を計算する関数を使用\n",
        "fpfh = o3d.pipelines.registration.compute_fpfh_feature(pcd,\n",
        "    search_param = o3d.geometry.KDTreeSearchParamHybrid(radius=0.03, max_nn=100))\n",
        "\n",
        "print(fpfh)\n",
        "print(fpfh.data.shape)\n"
      ],
      "metadata": {
        "id": "bkdjqjec0XOY"
      },
      "execution_count": null,
      "outputs": []
    },
    {
      "cell_type": "markdown",
      "source": [
        "## 大域特徴量"
      ],
      "metadata": {
        "id": "RA1c8LcfVO2R"
      }
    },
    {
      "cell_type": "markdown",
      "source": [
        "### 3D shape histogram"
      ],
      "metadata": {
        "id": "Cc62OGOP3d_4"
      }
    },
    {
      "cell_type": "markdown",
      "source": [
        "Open3Dに関数が用意されていないので、Numpyで3D shape histogramを実装します。\n",
        "`getShapeHistogram`が対象の関数で、点群と、ヒストグラムの設定のパラメータを入力すると3D shape histogram特徴量が得られます。\n",
        "\n",
        "スタンフォードバニーを用いて、実際に計算してみます。\n",
        "ヒストグラムを可視化した結果において、横軸は各ビン、縦軸は点数を示しています。"
      ],
      "metadata": {
        "id": "18B_tkQTuTSI"
      }
    },
    {
      "cell_type": "code",
      "source": [
        "def getShapeHistogram(Ps, Ns, NShells, RMax):\n",
        "    # ヒストグラム格納用\n",
        "    hist = np.zeros(NShells)\n",
        "    # ビンの設定\n",
        "    bins = np.square(np.linspace(0.0, RMax, NShells + 1))\n",
        "    indices = np.digitize(np.sum(np.multiply(Ps, Ps), axis=0), bins) - 1\n",
        "    # ビンごとの点数カウント\n",
        "    count = np.bincount(indices)[:NShells]\n",
        "    # 結果を格納\n",
        "    hist[:count.shape[0]] = count\n",
        "    return hist"
      ],
      "metadata": {
        "id": "4PSP7bRyVQ8i"
      },
      "execution_count": null,
      "outputs": []
    },
    {
      "cell_type": "code",
      "source": [
        "import matplotlib.pyplot as plt\n",
        "#スタンフォードバニーを入力する\n",
        "filename = \"bunny/reconstruction/bun_zipper.ply\"\n",
        "print(\"Loading a point cloud from\", filename)\n",
        "pcd = o3d.io.read_point_cloud(filename)\n",
        "points = np.asarray(pcd.points).transpose()\n",
        "# 法線の推定\n",
        "pcd.estimate_normals(search_param=o3d.geometry.KDTreeSearchParamHybrid(radius=0.1, max_nn=30))\n",
        "normals = np.asarray(pcd.normals).transpose()\n",
        "\n",
        "# 3D Shape Histogramの計算\n",
        "bins = 30 # histogramのビン数\n",
        "maxr = 0.3 # 最大の半径をどれくらいにするか\n",
        "# 3D Shape Histogram関数を用いる\n",
        "hist = getShapeHistogram(points, normals, bins, maxr)\n",
        "\n",
        "# 特徴量の可視化\n",
        "fig = plt.figure()\n",
        "\n",
        "ax = fig.add_subplot(1, 1, 1)\n",
        "# x 軸のラベルを設定する。\n",
        "ax.set_xlabel(\"bins\")\n",
        "# y 軸のラベルを設定する。\n",
        "ax.set_ylabel(\"Number of Points\")\n",
        "x = range(bins)\n",
        "ax.bar(x, hist)\n",
        "plt.show()\n"
      ],
      "metadata": {
        "id": "RV6Axjy34SZu"
      },
      "execution_count": null,
      "outputs": []
    },
    {
      "cell_type": "code",
      "source": [],
      "metadata": {
        "id": "Xug1T6Ak7TqF"
      },
      "execution_count": null,
      "outputs": []
    }
  ]
}