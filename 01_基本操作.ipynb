{
  "cells": [
    {
      "cell_type": "markdown",
      "metadata": {
        "id": "view-in-github",
        "colab_type": "text"
      },
      "source": [
        "<a href=\"https://colab.research.google.com/github/shnhrtkyk/JTCcode/blob/main/01_%E5%9F%BA%E6%9C%AC%E6%93%8D%E4%BD%9C.ipynb\" target=\"_parent\"><img src=\"https://colab.research.google.com/assets/colab-badge.svg\" alt=\"Open In Colab\"/></a>"
      ]
    },
    {
      "cell_type": "markdown",
      "metadata": {
        "id": "rmNR5lG71O65"
      },
      "source": [
        "# 点群処理の基礎\n"
      ]
    },
    {
      "cell_type": "markdown",
      "metadata": {
        "id": "IgUVFLrL1OBq"
      },
      "source": [
        "## コードをダウンロード"
      ]
    },
    {
      "cell_type": "code",
      "execution_count": null,
      "metadata": {
        "id": "crFOBynxMd9j"
      },
      "outputs": [],
      "source": [
        "!git clone --recursive https://github.com/isl-org/Open3D"
      ]
    },
    {
      "cell_type": "markdown",
      "metadata": {
        "id": "GsWBOijM1ZJI"
      },
      "source": [
        "## Open3Dのインストール"
      ]
    },
    {
      "cell_type": "code",
      "execution_count": null,
      "metadata": {
        "id": "3jwRSwOwMnEp"
      },
      "outputs": [],
      "source": [
        "!pip install open3d==0.16"
      ]
    },
    {
      "cell_type": "markdown",
      "metadata": {
        "id": "BrCmNLSq1BZp"
      },
      "source": [
        "# 入出力"
      ]
    },
    {
      "cell_type": "markdown",
      "metadata": {
        "id": "ob89_i8l1FwR"
      },
      "source": [
        "## 入力と表示"
      ]
    },
    {
      "cell_type": "code",
      "execution_count": null,
      "metadata": {
        "id": "G06eegsrARbs"
      },
      "outputs": [],
      "source": [
        "!wget https://github.com/isl-org/open3d_downloads/releases/download/20220201-data/fragment.ply"
      ]
    },
    {
      "cell_type": "code",
      "execution_count": null,
      "metadata": {
        "id": "-_Yol2AQMxf9"
      },
      "outputs": [],
      "source": [
        "import sys\n",
        "import numpy as np\n",
        "import open3d as o3d\n",
        "\n",
        "filename = \"/content/fragment.ply\"\n",
        "\n",
        "print(\"Loading a point cloud from\", filename)\n",
        "pcd = o3d.io.read_point_cloud(filename)\n",
        "\n",
        "print(pcd)\n",
        "print(np.asarray(pcd.points))\n",
        "\n",
        "pcds = []\n",
        "pcds.append(o3d.io.read_point_cloud(filename))\n",
        "o3d.visualization.draw_geometries([pcds[0]], zoom=0.3412,\n",
        "                                  front=[0.4257, -0.2125, -0.8795],\n",
        "                                  lookat=[2.6172, 2.0475, 1.532],\n",
        "                                  up=[-0.0694, -0.9768, 0.2024])\n",
        "o3d.visualization.draw_plotly(\n",
        "  [pcds[0]],\n",
        "  width=800,\n",
        "  height=800,\n",
        "  front=[0.4257, -0.2125, -0.8795],\n",
        "  lookat=[2.6172, 2.0475, 1.532],\n",
        "  up=[-0.0694, -0.9768, 0.2024]\n",
        ")\n",
        "\n"
      ]
    },
    {
      "cell_type": "markdown",
      "metadata": {
        "id": "ExDXaoP30_H4"
      },
      "source": [
        "# サンプリング"
      ]
    },
    {
      "cell_type": "markdown",
      "metadata": {
        "id": "MTlCEebA09E0"
      },
      "source": [
        "### 等間隔サンプリング"
      ]
    },
    {
      "cell_type": "code",
      "execution_count": null,
      "metadata": {
        "id": "A2oXq7fFLtnc"
      },
      "outputs": [],
      "source": [
        "print(\"Downsample the point cloud with a voxel of 0.05\")\n",
        "downpcd = pcd.voxel_down_sample(voxel_size=0.05)\n",
        "o3d.visualization.draw_geometries([downpcd])\n",
        "print(downpcd)\n",
        "o3d.visualization.draw_plotly(\n",
        "[downpcd],\n",
        "width=1200,\n",
        "height=800,\n",
        "front=[0.4257, -0.2125, -0.8795],\n",
        "                                      lookat=[2.6172, 2.0475, 1.532],\n",
        "                                      up=[-0.0694, -0.9768, 0.2024]\n",
        ")"
      ]
    },
    {
      "cell_type": "markdown",
      "metadata": {
        "id": "Asd9AFHe03MT"
      },
      "source": [
        "### 最遠点サンプリング"
      ]
    },
    {
      "cell_type": "code",
      "execution_count": null,
      "metadata": {
        "id": "xCpQVgWCyw_o"
      },
      "outputs": [],
      "source": [
        "def l2_norm(a, b):\n",
        "    return ((a - b) ** 2).sum(axis=1)\n",
        "\n",
        "def farthest_point_sampling(pcd, k, metrics=l2_norm):\n",
        "    indices = np.zeros(k, dtype=np.int32)\n",
        "    points = np.asarray(pcd.points)\n",
        "    distances = np.zeros((k, points.shape[0]), dtype=np.float32)\n",
        "    indices[0] = np.random.randint(len(points))\n",
        "    farthest_point = points[indices[0]]\n",
        "    min_distances = metrics(farthest_point, points)\n",
        "    distances[0, :] = min_distances\n",
        "    for i in range(1, k):\n",
        "        indices[i] = np.argmax(min_distances)\n",
        "        farthest_point = points[indices[i]]\n",
        "        distances[i, :] = metrics(farthest_point, points)\n",
        "        min_distances = np.minimum(min_distances, distances[i, :])\n",
        "    pcd = pcd.select_by_index(indices)\n",
        "    return pcd\n",
        "\n",
        "# main\n",
        "filename = \"/content/fragment.ply\"\n",
        "k = 2000\n",
        "print(\"Loading a point cloud from\", filename)\n",
        "pcd = o3d.io.read_point_cloud(filename)\n",
        "print(pcd)\n",
        "\n",
        "o3d.visualization.draw_geometries([pcd], zoom=0.3412,\n",
        "                                  front=[0.4257, -0.2125, -0.8795],\n",
        "                                  lookat=[2.6172, 2.0475, 1.532],\n",
        "                                  up=[-0.0694, -0.9768, 0.2024])\n",
        "o3d.visualization.draw_plotly(\n",
        "[pcd],\n",
        "width=1200,\n",
        "height=800\n",
        ")\n",
        "downpcd = farthest_point_sampling(pcd, k)\n",
        "print(downpcd)\n",
        "\n",
        "o3d.visualization.draw_geometries([downpcd], zoom=0.3412,\n",
        "                                  front=[0.4257, -0.2125, -0.8795],\n",
        "                                  lookat=[2.6172, 2.0475, 1.532],\n",
        "                                  up=[-0.0694, -0.9768, 0.2024])\n",
        "\n",
        "\n",
        "\n",
        "o3d.visualization.draw_plotly(\n",
        "[downpcd],\n",
        "width=1200,\n",
        "height=800,\n",
        "front=[0.4257, -0.2125, -0.8795],\n",
        "                                      lookat=[2.6172, 2.0475, 1.532],\n",
        "                                      up=[-0.0694, -0.9768, 0.2024]\n",
        ")"
      ]
    },
    {
      "cell_type": "markdown",
      "metadata": {
        "id": "0MFah-Da1eFK"
      },
      "source": [
        "# ノイズ除去"
      ]
    },
    {
      "cell_type": "markdown",
      "source": [
        "## 統計的外れ値除去"
      ],
      "metadata": {
        "id": "6pZ91jzFOTvf"
      }
    },
    {
      "cell_type": "code",
      "execution_count": null,
      "metadata": {
        "id": "JHj4DTxp1j6A"
      },
      "outputs": [],
      "source": [
        "import sys\n",
        "import open3d as o3d\n",
        "\n",
        "def display_inlier_outlier(cloud, ind):\n",
        "    inlier_cloud = cloud.select_by_index(ind)\n",
        "    outlier_cloud = cloud.select_by_index(ind, invert=True)\n",
        "\n",
        "    print(\"Showing outliers (red) and inliers (gray): \")\n",
        "    outlier_cloud.paint_uniform_color([1, 0, 0])\n",
        "    inlier_cloud.paint_uniform_color([0.8, 0.8, 0.8])\n",
        "    o3d.visualization.draw_geometries([inlier_cloud, outlier_cloud],\n",
        "                                      zoom=0.3412,\n",
        "                                      front=[0.4257, -0.2125, -0.8795],\n",
        "                                      lookat=[2.6172, 2.0475, 1.532],\n",
        "                                      up=[-0.0694, -0.9768, 0.2024])\n",
        "    o3d.visualization.draw_plotly(\n",
        "      [inlier_cloud, outlier_cloud],\n",
        "      width=1200,\n",
        "      height=800,\n",
        "      front=[0.4257, -0.2125, -0.8795],\n",
        "                                      lookat=[2.6172, 2.0475, 1.532],\n",
        "                                      up=[-0.0694, -0.9768, 0.2024]\n",
        "      )\n",
        "\n",
        "filename = \"/content/fragment.ply\"\n",
        "print(\"Loading a point cloud from\", filename)\n",
        "pcd = o3d.io.read_point_cloud(filename)\n",
        "print(pcd)\n",
        "\n",
        "print(\"Statistical oulier removal\")\n",
        "cl, ind = pcd.remove_statistical_outlier(nb_neighbors=20, std_ratio=2.0)\n",
        "display_inlier_outlier(pcd, ind)\n",
        "\n",
        "print(\"Radius oulier removal\")\n",
        "cl, ind = pcd.remove_radius_outlier(nb_points=16, radius=0.02)\n",
        "display_inlier_outlier(pcd, ind)\n"
      ]
    },
    {
      "cell_type": "markdown",
      "source": [
        "## 幾何的外れ値除去"
      ],
      "metadata": {
        "id": "lEVEn6bqOcmv"
      }
    },
    {
      "cell_type": "code",
      "source": [
        "import sys\n",
        "import open3d as o3d\n",
        "\n",
        "def display_inlier_outlier(cloud, ind):\n",
        "    inlier_cloud = cloud.select_by_index(ind)\n",
        "    outlier_cloud = cloud.select_by_index(ind, invert=True)\n",
        "\n",
        "    print(\"Showing outliers (red) and inliers (gray): \")\n",
        "    outlier_cloud.paint_uniform_color([1, 0, 0])\n",
        "    inlier_cloud.paint_uniform_color([0.8, 0.8, 0.8])\n",
        "    o3d.visualization.draw_geometries([inlier_cloud, outlier_cloud],\n",
        "                                      zoom=0.3412,\n",
        "                                      front=[0.4257, -0.2125, -0.8795],\n",
        "                                      lookat=[2.6172, 2.0475, 1.532],\n",
        "                                      up=[-0.0694, -0.9768, 0.2024])\n",
        "    o3d.visualization.draw_plotly(\n",
        "      [inlier_cloud, outlier_cloud],\n",
        "      width=1200,\n",
        "      height=800,\n",
        "      front=[0.4257, -0.2125, -0.8795],\n",
        "                                      lookat=[2.6172, 2.0475, 1.532],\n",
        "                                      up=[-0.0694, -0.9768, 0.2024]\n",
        "      )\n",
        "\n",
        "filename = \"/content/fragment.ply\"\n",
        "print(\"Loading a point cloud from\", filename)\n",
        "pcd = o3d.io.read_point_cloud(filename)\n",
        "print(pcd)\n",
        "\n",
        "print(\"Radius oulier removal\")\n",
        "cl, ind = pcd.remove_radius_outlier(nb_points=100, radius=0.02)\n",
        "display_inlier_outlier(pcd, ind)\n"
      ],
      "metadata": {
        "id": "HDrv4CotOb0H"
      },
      "execution_count": null,
      "outputs": []
    },
    {
      "cell_type": "markdown",
      "source": [
        "# 法線推定"
      ],
      "metadata": {
        "id": "Yvto1dgV2Zw7"
      }
    },
    {
      "cell_type": "markdown",
      "source": [
        "## 法線推定"
      ],
      "metadata": {
        "id": "52W7sIu_PI0h"
      }
    },
    {
      "cell_type": "code",
      "source": [
        "import matplotlib.pyplot as plt\n",
        "from mpl_toolkits import mplot3d\n",
        "import plotly.graph_objects as go\n",
        "\n",
        "# Estimation of normal vector of points\n",
        "pcd.estimate_normals(\n",
        "search_param=o3d.geometry.KDTreeSearchParamHybrid(radius=0.1, max_nn=30))\n",
        "points = np.asarray(pcd.points)\n",
        "colors = (0.5, 0.5, 0.5) + np.asarray(pcd.normals) * 0.5\n",
        "\n",
        "fig = go.Figure(\n",
        "    data=[\n",
        "        go.Scatter3d(\n",
        "            x=points[:,0], y=points[:,1], z=points[:,2],\n",
        "            mode='markers',\n",
        "            marker=dict(size=1, color=colors)\n",
        "        )\n",
        "    ],\n",
        "    layout=dict(\n",
        "        scene=dict(\n",
        "            xaxis=dict(visible=False),\n",
        "            yaxis=dict(visible=False),\n",
        "            zaxis=dict(visible=False)\n",
        "        )\n",
        "    )\n",
        ")\n",
        "fig.show()"
      ],
      "metadata": {
        "id": "FojAIdyp2aEj"
      },
      "execution_count": null,
      "outputs": []
    }
  ],
  "metadata": {
    "colab": {
      "provenance": [],
      "include_colab_link": true
    },
    "gpuClass": "standard",
    "kernelspec": {
      "display_name": "Python 3",
      "name": "python3"
    },
    "language_info": {
      "name": "python"
    }
  },
  "nbformat": 4,
  "nbformat_minor": 0
}